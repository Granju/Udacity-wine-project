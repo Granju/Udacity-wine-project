{
 "cells": [
  {
   "cell_type": "code",
   "execution_count": 214,
   "id": "e0621d70",
   "metadata": {},
   "outputs": [
    {
     "name": "stderr",
     "output_type": "stream",
     "text": [
      "[nltk_data] Downloading package punkt to\n",
      "[nltk_data]     C:\\Users\\Julien\\AppData\\Roaming\\nltk_data...\n",
      "[nltk_data]   Package punkt is already up-to-date!\n",
      "[nltk_data] Downloading package wordnet to\n",
      "[nltk_data]     C:\\Users\\Julien\\AppData\\Roaming\\nltk_data...\n",
      "[nltk_data]   Package wordnet is already up-to-date!\n"
     ]
    }
   ],
   "source": [
    "import pandas as pd\n",
    "import numpy as np\n",
    "import matplotlib.pyplot as plt\n",
    "import seaborn as sns\n",
    "import nltk\n",
    "nltk.download('punkt')\n",
    "nltk.download('wordnet')\n",
    "from nltk import word_tokenize \n",
    "from nltk.stem import WordNetLemmatizer \n",
    "\n",
    "from sklearn.model_selection import train_test_split\n",
    "from sklearn.ensemble import RandomForestClassifier\n",
    "from sklearn.feature_extraction.text import CountVectorizer, TfidfTransformer\n",
    "from sklearn.pipeline import Pipeline\n",
    "from sklearn.metrics import confusion_matrix, classification_report\n",
    "from sklearn.ensemble import RandomForestClassifier\n",
    "\n",
    "\n",
    "%matplotlib inline\n",
    "\n",
    "df = pd.read_csv('winemag-data-130k-v2.csv', index_col=[0])"
   ]
  },
  {
   "cell_type": "code",
   "execution_count": 215,
   "id": "57fb23ce",
   "metadata": {},
   "outputs": [
    {
     "data": {
      "text/html": [
       "<div>\n",
       "<style scoped>\n",
       "    .dataframe tbody tr th:only-of-type {\n",
       "        vertical-align: middle;\n",
       "    }\n",
       "\n",
       "    .dataframe tbody tr th {\n",
       "        vertical-align: top;\n",
       "    }\n",
       "\n",
       "    .dataframe thead th {\n",
       "        text-align: right;\n",
       "    }\n",
       "</style>\n",
       "<table border=\"1\" class=\"dataframe\">\n",
       "  <thead>\n",
       "    <tr style=\"text-align: right;\">\n",
       "      <th></th>\n",
       "      <th>country</th>\n",
       "      <th>description</th>\n",
       "      <th>designation</th>\n",
       "      <th>points</th>\n",
       "      <th>price</th>\n",
       "      <th>province</th>\n",
       "      <th>region_1</th>\n",
       "      <th>region_2</th>\n",
       "      <th>taster_name</th>\n",
       "      <th>taster_twitter_handle</th>\n",
       "      <th>title</th>\n",
       "      <th>variety</th>\n",
       "      <th>winery</th>\n",
       "    </tr>\n",
       "  </thead>\n",
       "  <tbody>\n",
       "    <tr>\n",
       "      <th>0</th>\n",
       "      <td>Italy</td>\n",
       "      <td>Aromas include tropical fruit, broom, brimston...</td>\n",
       "      <td>Vulkà Bianco</td>\n",
       "      <td>87</td>\n",
       "      <td>NaN</td>\n",
       "      <td>Sicily &amp; Sardinia</td>\n",
       "      <td>Etna</td>\n",
       "      <td>NaN</td>\n",
       "      <td>Kerin O’Keefe</td>\n",
       "      <td>@kerinokeefe</td>\n",
       "      <td>Nicosia 2013 Vulkà Bianco  (Etna)</td>\n",
       "      <td>White Blend</td>\n",
       "      <td>Nicosia</td>\n",
       "    </tr>\n",
       "    <tr>\n",
       "      <th>1</th>\n",
       "      <td>Portugal</td>\n",
       "      <td>This is ripe and fruity, a wine that is smooth...</td>\n",
       "      <td>Avidagos</td>\n",
       "      <td>87</td>\n",
       "      <td>15.0</td>\n",
       "      <td>Douro</td>\n",
       "      <td>NaN</td>\n",
       "      <td>NaN</td>\n",
       "      <td>Roger Voss</td>\n",
       "      <td>@vossroger</td>\n",
       "      <td>Quinta dos Avidagos 2011 Avidagos Red (Douro)</td>\n",
       "      <td>Portuguese Red</td>\n",
       "      <td>Quinta dos Avidagos</td>\n",
       "    </tr>\n",
       "    <tr>\n",
       "      <th>2</th>\n",
       "      <td>US</td>\n",
       "      <td>Tart and snappy, the flavors of lime flesh and...</td>\n",
       "      <td>NaN</td>\n",
       "      <td>87</td>\n",
       "      <td>14.0</td>\n",
       "      <td>Oregon</td>\n",
       "      <td>Willamette Valley</td>\n",
       "      <td>Willamette Valley</td>\n",
       "      <td>Paul Gregutt</td>\n",
       "      <td>@paulgwine</td>\n",
       "      <td>Rainstorm 2013 Pinot Gris (Willamette Valley)</td>\n",
       "      <td>Pinot Gris</td>\n",
       "      <td>Rainstorm</td>\n",
       "    </tr>\n",
       "    <tr>\n",
       "      <th>3</th>\n",
       "      <td>US</td>\n",
       "      <td>Pineapple rind, lemon pith and orange blossom ...</td>\n",
       "      <td>Reserve Late Harvest</td>\n",
       "      <td>87</td>\n",
       "      <td>13.0</td>\n",
       "      <td>Michigan</td>\n",
       "      <td>Lake Michigan Shore</td>\n",
       "      <td>NaN</td>\n",
       "      <td>Alexander Peartree</td>\n",
       "      <td>NaN</td>\n",
       "      <td>St. Julian 2013 Reserve Late Harvest Riesling ...</td>\n",
       "      <td>Riesling</td>\n",
       "      <td>St. Julian</td>\n",
       "    </tr>\n",
       "    <tr>\n",
       "      <th>4</th>\n",
       "      <td>US</td>\n",
       "      <td>Much like the regular bottling from 2012, this...</td>\n",
       "      <td>Vintner's Reserve Wild Child Block</td>\n",
       "      <td>87</td>\n",
       "      <td>65.0</td>\n",
       "      <td>Oregon</td>\n",
       "      <td>Willamette Valley</td>\n",
       "      <td>Willamette Valley</td>\n",
       "      <td>Paul Gregutt</td>\n",
       "      <td>@paulgwine</td>\n",
       "      <td>Sweet Cheeks 2012 Vintner's Reserve Wild Child...</td>\n",
       "      <td>Pinot Noir</td>\n",
       "      <td>Sweet Cheeks</td>\n",
       "    </tr>\n",
       "  </tbody>\n",
       "</table>\n",
       "</div>"
      ],
      "text/plain": [
       "    country                                        description  \\\n",
       "0     Italy  Aromas include tropical fruit, broom, brimston...   \n",
       "1  Portugal  This is ripe and fruity, a wine that is smooth...   \n",
       "2        US  Tart and snappy, the flavors of lime flesh and...   \n",
       "3        US  Pineapple rind, lemon pith and orange blossom ...   \n",
       "4        US  Much like the regular bottling from 2012, this...   \n",
       "\n",
       "                          designation  points  price           province  \\\n",
       "0                        Vulkà Bianco      87    NaN  Sicily & Sardinia   \n",
       "1                            Avidagos      87   15.0              Douro   \n",
       "2                                 NaN      87   14.0             Oregon   \n",
       "3                Reserve Late Harvest      87   13.0           Michigan   \n",
       "4  Vintner's Reserve Wild Child Block      87   65.0             Oregon   \n",
       "\n",
       "              region_1           region_2         taster_name  \\\n",
       "0                 Etna                NaN       Kerin O’Keefe   \n",
       "1                  NaN                NaN          Roger Voss   \n",
       "2    Willamette Valley  Willamette Valley        Paul Gregutt   \n",
       "3  Lake Michigan Shore                NaN  Alexander Peartree   \n",
       "4    Willamette Valley  Willamette Valley        Paul Gregutt   \n",
       "\n",
       "  taster_twitter_handle                                              title  \\\n",
       "0          @kerinokeefe                  Nicosia 2013 Vulkà Bianco  (Etna)   \n",
       "1            @vossroger      Quinta dos Avidagos 2011 Avidagos Red (Douro)   \n",
       "2           @paulgwine       Rainstorm 2013 Pinot Gris (Willamette Valley)   \n",
       "3                   NaN  St. Julian 2013 Reserve Late Harvest Riesling ...   \n",
       "4           @paulgwine   Sweet Cheeks 2012 Vintner's Reserve Wild Child...   \n",
       "\n",
       "          variety               winery  \n",
       "0     White Blend              Nicosia  \n",
       "1  Portuguese Red  Quinta dos Avidagos  \n",
       "2      Pinot Gris            Rainstorm  \n",
       "3        Riesling           St. Julian  \n",
       "4      Pinot Noir         Sweet Cheeks  "
      ]
     },
     "execution_count": 215,
     "metadata": {},
     "output_type": "execute_result"
    }
   ],
   "source": [
    "df.head()"
   ]
  },
  {
   "cell_type": "code",
   "execution_count": 216,
   "id": "9ea2fd3d",
   "metadata": {},
   "outputs": [
    {
     "data": {
      "text/plain": [
       "(129971, 13)"
      ]
     },
     "execution_count": 216,
     "metadata": {},
     "output_type": "execute_result"
    }
   ],
   "source": [
    "df.shape"
   ]
  },
  {
   "cell_type": "code",
   "execution_count": 217,
   "id": "a4ca6f08",
   "metadata": {},
   "outputs": [
    {
     "data": {
      "text/plain": [
       "country                  0.000485\n",
       "description              0.000000\n",
       "designation              0.288257\n",
       "points                   0.000000\n",
       "price                    0.069215\n",
       "province                 0.000485\n",
       "region_1                 0.163475\n",
       "region_2                 0.611367\n",
       "taster_name              0.201922\n",
       "taster_twitter_handle    0.240154\n",
       "title                    0.000000\n",
       "variety                  0.000008\n",
       "winery                   0.000000\n",
       "dtype: float64"
      ]
     },
     "execution_count": 217,
     "metadata": {},
     "output_type": "execute_result"
    }
   ],
   "source": [
    "df.isnull().sum()/df.shape[0]"
   ]
  },
  {
   "cell_type": "code",
   "execution_count": 218,
   "id": "98e93fd8",
   "metadata": {},
   "outputs": [
    {
     "data": {
      "text/html": [
       "<div>\n",
       "<style scoped>\n",
       "    .dataframe tbody tr th:only-of-type {\n",
       "        vertical-align: middle;\n",
       "    }\n",
       "\n",
       "    .dataframe tbody tr th {\n",
       "        vertical-align: top;\n",
       "    }\n",
       "\n",
       "    .dataframe thead th {\n",
       "        text-align: right;\n",
       "    }\n",
       "</style>\n",
       "<table border=\"1\" class=\"dataframe\">\n",
       "  <thead>\n",
       "    <tr style=\"text-align: right;\">\n",
       "      <th></th>\n",
       "      <th>country</th>\n",
       "      <th>description</th>\n",
       "      <th>designation</th>\n",
       "      <th>points</th>\n",
       "      <th>price</th>\n",
       "      <th>province</th>\n",
       "      <th>region_1</th>\n",
       "      <th>region_2</th>\n",
       "      <th>taster_name</th>\n",
       "      <th>taster_twitter_handle</th>\n",
       "      <th>title</th>\n",
       "      <th>variety</th>\n",
       "      <th>winery</th>\n",
       "    </tr>\n",
       "  </thead>\n",
       "  <tbody>\n",
       "  </tbody>\n",
       "</table>\n",
       "</div>"
      ],
      "text/plain": [
       "Empty DataFrame\n",
       "Columns: [country, description, designation, points, price, province, region_1, region_2, taster_name, taster_twitter_handle, title, variety, winery]\n",
       "Index: []"
      ]
     },
     "execution_count": 218,
     "metadata": {},
     "output_type": "execute_result"
    }
   ],
   "source": [
    "df[(df['taster_name'].isnull()) & (df['taster_twitter_handle'].notnull())]"
   ]
  },
  {
   "cell_type": "code",
   "execution_count": 219,
   "id": "3f91ec43",
   "metadata": {},
   "outputs": [],
   "source": [
    "df.drop(['taster_twitter_handle'], axis=1, inplace=True)"
   ]
  },
  {
   "cell_type": "markdown",
   "id": "95452529",
   "metadata": {},
   "source": [
    "Since the numbers of wineries to be attributed a country is quite short, I decided to do some internet searches and fill in the country NaN with the countries fo these wineries."
   ]
  },
  {
   "cell_type": "code",
   "execution_count": 220,
   "id": "bd8949ec",
   "metadata": {},
   "outputs": [
    {
     "data": {
      "text/plain": [
       "array(['Gotsa Family Wines', 'Barton & Guestier',\n",
       "       'Kakhetia Traditional Winemaking', 'Tsililis', 'Ross-idi',\n",
       "       'Orbelus', 'St. Donat', 'Familia Deicas', 'Bartho Eksteen',\n",
       "       'Stone Castle', 'Teliani Valley', 'Undurraga', 'Mt. Beautiful',\n",
       "       'Neumeister', 'Bachelder', 'Chilcas', 'Santa Ema', 'Psagot',\n",
       "       'Newton Johnson', 'Ktima Voyatzi', 'Lismore', 'Logodaj',\n",
       "       'Somlói Vándor', 'Les Frères Dutruy', 'El Capricho',\n",
       "       'Amiran Vepkhvadze', 'Büyülübağ'], dtype=object)"
      ]
     },
     "execution_count": 220,
     "metadata": {},
     "output_type": "execute_result"
    }
   ],
   "source": [
    "producers_to_locate = df[df.country.isnull()].winery.unique()\n",
    "producers_to_locate"
   ]
  },
  {
   "cell_type": "code",
   "execution_count": 221,
   "id": "72d3a085",
   "metadata": {},
   "outputs": [],
   "source": [
    "Country = ['Georgia', \n",
    "           'France',\n",
    "           'Georgia',\n",
    "           'Greece', \n",
    "           'Bulgaria',\n",
    "           'Bulgaria', \n",
    "           'Hungary', \n",
    "           'Uruguay', \n",
    "           'South Africa',\n",
    "           'Kosovo', \n",
    "           'Georgia',\n",
    "           'Chile', \n",
    "           'New Zealand',\n",
    "           'Austria', \n",
    "           'US', \n",
    "           'Chile',\n",
    "           'Chile',\n",
    "           'Israel',\n",
    "           'South Africa',\n",
    "           'Greece', \n",
    "           'South Africa',\n",
    "           'South Africa',\n",
    "           'Hungary',\n",
    "           'Switzerland', \n",
    "           'Uruguay',\n",
    "           'Georgia', \n",
    "           'Turkey']\n",
    "           \n",
    "producers_to_locate_dict = dict(zip(list(producers_to_locate), Country))"
   ]
  },
  {
   "cell_type": "code",
   "execution_count": 222,
   "id": "513d5a10",
   "metadata": {},
   "outputs": [],
   "source": [
    "for producer in producers_to_locate:\n",
    "    df.loc[df['winery'] == producer, 'country'] = [producers_to_locate_dict[producer]] * len(df.loc[df['winery'] == producer, 'country'])\n",
    "    "
   ]
  },
  {
   "cell_type": "code",
   "execution_count": 223,
   "id": "e9b2b652",
   "metadata": {},
   "outputs": [
    {
     "data": {
      "text/plain": [
       "country        0.000000\n",
       "description    0.000000\n",
       "designation    0.288257\n",
       "points         0.000000\n",
       "price          0.069215\n",
       "province       0.000485\n",
       "region_1       0.163475\n",
       "region_2       0.611367\n",
       "taster_name    0.201922\n",
       "title          0.000000\n",
       "variety        0.000008\n",
       "winery         0.000000\n",
       "dtype: float64"
      ]
     },
     "execution_count": 223,
     "metadata": {},
     "output_type": "execute_result"
    }
   ],
   "source": [
    "df.isnull().sum()/df.shape[0]"
   ]
  },
  {
   "cell_type": "code",
   "execution_count": 224,
   "id": "670ba39e",
   "metadata": {},
   "outputs": [
    {
     "data": {
      "text/html": [
       "<div>\n",
       "<style scoped>\n",
       "    .dataframe tbody tr th:only-of-type {\n",
       "        vertical-align: middle;\n",
       "    }\n",
       "\n",
       "    .dataframe tbody tr th {\n",
       "        vertical-align: top;\n",
       "    }\n",
       "\n",
       "    .dataframe thead th {\n",
       "        text-align: right;\n",
       "    }\n",
       "</style>\n",
       "<table border=\"1\" class=\"dataframe\">\n",
       "  <thead>\n",
       "    <tr style=\"text-align: right;\">\n",
       "      <th></th>\n",
       "      <th>country</th>\n",
       "      <th>description</th>\n",
       "      <th>designation</th>\n",
       "      <th>points</th>\n",
       "      <th>price</th>\n",
       "      <th>province</th>\n",
       "      <th>region_1</th>\n",
       "      <th>region_2</th>\n",
       "      <th>taster_name</th>\n",
       "      <th>title</th>\n",
       "      <th>variety</th>\n",
       "      <th>winery</th>\n",
       "    </tr>\n",
       "  </thead>\n",
       "  <tbody>\n",
       "    <tr>\n",
       "      <th>86909</th>\n",
       "      <td>Chile</td>\n",
       "      <td>A chalky, dusty mouthfeel nicely balances this...</td>\n",
       "      <td>NaN</td>\n",
       "      <td>88</td>\n",
       "      <td>17.0</td>\n",
       "      <td>Maipo Valley</td>\n",
       "      <td>NaN</td>\n",
       "      <td>NaN</td>\n",
       "      <td>NaN</td>\n",
       "      <td>Carmen 1999  (Maipo Valley)</td>\n",
       "      <td>NaN</td>\n",
       "      <td>Carmen</td>\n",
       "    </tr>\n",
       "  </tbody>\n",
       "</table>\n",
       "</div>"
      ],
      "text/plain": [
       "      country                                        description designation  \\\n",
       "86909   Chile  A chalky, dusty mouthfeel nicely balances this...         NaN   \n",
       "\n",
       "       points  price      province region_1 region_2 taster_name  \\\n",
       "86909      88   17.0  Maipo Valley      NaN      NaN         NaN   \n",
       "\n",
       "                             title variety  winery  \n",
       "86909  Carmen 1999  (Maipo Valley)     NaN  Carmen  "
      ]
     },
     "execution_count": 224,
     "metadata": {},
     "output_type": "execute_result"
    }
   ],
   "source": [
    "df[df.variety.isnull()]"
   ]
  },
  {
   "cell_type": "code",
   "execution_count": 225,
   "id": "9ce5c382",
   "metadata": {},
   "outputs": [],
   "source": [
    "df.loc[df.variety.isnull(), 'variety'] = 'Cabernet Blend'"
   ]
  },
  {
   "cell_type": "code",
   "execution_count": 226,
   "id": "afbc1fc0",
   "metadata": {},
   "outputs": [
    {
     "data": {
      "text/plain": [
       "country        0.000000\n",
       "description    0.000000\n",
       "designation    0.288257\n",
       "points         0.000000\n",
       "price          0.069215\n",
       "province       0.000485\n",
       "region_1       0.163475\n",
       "region_2       0.611367\n",
       "taster_name    0.201922\n",
       "title          0.000000\n",
       "variety        0.000000\n",
       "winery         0.000000\n",
       "dtype: float64"
      ]
     },
     "execution_count": 226,
     "metadata": {},
     "output_type": "execute_result"
    }
   ],
   "source": [
    "df.isnull().sum()/df.shape[0]"
   ]
  },
  {
   "cell_type": "code",
   "execution_count": 227,
   "id": "43d05ec4",
   "metadata": {},
   "outputs": [
    {
     "data": {
      "image/png": "[encoded data removed]",
      "text/plain": [
       "<Figure size 432x288 with 1 Axes>"
      ]
     },
     "metadata": {
      "needs_background": "light"
     },
     "output_type": "display_data"
    }
   ],
   "source": [
    "(df.points.value_counts().sort_index()).plot(kind=\"bar\");"
   ]
  },
  {
   "cell_type": "code",
   "execution_count": 228,
   "id": "ffd8a8c7",
   "metadata": {},
   "outputs": [
    {
     "data": {
      "text/plain": [
       "count    120975.000000\n",
       "mean         35.363389\n",
       "std          41.022218\n",
       "min           4.000000\n",
       "25%          17.000000\n",
       "50%          25.000000\n",
       "75%          42.000000\n",
       "max        3300.000000\n",
       "Name: price, dtype: float64"
      ]
     },
     "execution_count": 228,
     "metadata": {},
     "output_type": "execute_result"
    }
   ],
   "source": [
    "df.price.describe()"
   ]
  },
  {
   "cell_type": "code",
   "execution_count": 229,
   "id": "06800697",
   "metadata": {},
   "outputs": [
    {
     "data": {
      "image/png": "[encoded data removed]",
      "text/plain": [
       "<Figure size 432x288 with 1 Axes>"
      ]
     },
     "metadata": {
      "needs_background": "light"
     },
     "output_type": "display_data"
    }
   ],
   "source": [
    "(df.price.value_counts()).plot(kind=\"hist\", bins=[0, 5, 10, 15, 20, 25, 30, 35, 40]);"
   ]
  },
  {
   "cell_type": "code",
   "execution_count": 230,
   "id": "a8c094a1",
   "metadata": {},
   "outputs": [
    {
     "data": {
      "text/plain": [
       "<AxesSubplot:ylabel='country'>"
      ]
     },
     "execution_count": 230,
     "metadata": {},
     "output_type": "execute_result"
    },
    {
     "data": {
      "image/png": "[encoded data removed]",
      "text/plain": [
       "<Figure size 432x288 with 1 Axes>"
      ]
     },
     "metadata": {},
     "output_type": "display_data"
    }
   ],
   "source": [
    "country_val = df.country.value_counts()\n",
    "(country_val[:11]).plot(kind='pie')"
   ]
  },
  {
   "cell_type": "code",
   "execution_count": 231,
   "id": "b3d19a07",
   "metadata": {},
   "outputs": [
    {
     "data": {
      "image/png": "[encoded data removed]",
      "text/plain": [
       "<Figure size 432x288 with 1 Axes>"
      ]
     },
     "metadata": {},
     "output_type": "display_data"
    }
   ],
   "source": [
    "variety_val = df.variety.value_counts()\n",
    "(variety_val[:11]).plot(kind='pie');"
   ]
  },
  {
   "cell_type": "code",
   "execution_count": 232,
   "id": "e5ef14b7",
   "metadata": {},
   "outputs": [],
   "source": [
    "def find_vintage(wine):\n",
    "    years = np.arange(1900, 2022).astype(str)\n",
    "    for word in wine.split():\n",
    "        if word in years:\n",
    "            return int(word)"
   ]
  },
  {
   "cell_type": "code",
   "execution_count": 233,
   "id": "13b119ff",
   "metadata": {},
   "outputs": [],
   "source": [
    "df['vintage'] = df.title.apply(find_vintage)"
   ]
  },
  {
   "cell_type": "code",
   "execution_count": 234,
   "id": "f28286e4",
   "metadata": {},
   "outputs": [
    {
     "data": {
      "text/plain": [
       "count    125345.000000\n",
       "mean       2010.671291\n",
       "std           3.797903\n",
       "min        1904.000000\n",
       "25%        2009.000000\n",
       "50%        2011.000000\n",
       "75%        2013.000000\n",
       "max        2017.000000\n",
       "Name: vintage, dtype: float64"
      ]
     },
     "execution_count": 234,
     "metadata": {},
     "output_type": "execute_result"
    }
   ],
   "source": [
    "df.vintage.describe()"
   ]
  },
  {
   "cell_type": "code",
   "execution_count": 235,
   "id": "e5bc4f77",
   "metadata": {},
   "outputs": [
    {
     "data": {
      "text/plain": [
       "country        0.000000\n",
       "description    0.000000\n",
       "designation    0.288257\n",
       "points         0.000000\n",
       "price          0.069215\n",
       "province       0.000485\n",
       "region_1       0.163475\n",
       "region_2       0.611367\n",
       "taster_name    0.201922\n",
       "title          0.000000\n",
       "variety        0.000000\n",
       "winery         0.000000\n",
       "vintage        0.035593\n",
       "dtype: float64"
      ]
     },
     "execution_count": 235,
     "metadata": {},
     "output_type": "execute_result"
    }
   ],
   "source": [
    "df.isnull().sum()/df.shape[0]"
   ]
  },
  {
   "cell_type": "markdown",
   "id": "4ee55259",
   "metadata": {},
   "source": [
    "Questions:\n",
    "1. Which wine producing countries offer best value for money?\n",
    "2. Which quantitative variable correlates best with price of a wine?\n",
    "3. Can we predict the variety of a wine from the description given by critics?"
   ]
  },
  {
   "cell_type": "markdown",
   "id": "72049c0b",
   "metadata": {},
   "source": [
    "**Which wine producing countries offer best value for money?**"
   ]
  },
  {
   "cell_type": "code",
   "execution_count": 236,
   "id": "c257c471",
   "metadata": {},
   "outputs": [],
   "source": [
    "df['quality_for_money'] = df['points']/df['price']"
   ]
  },
  {
   "cell_type": "code",
   "execution_count": 237,
   "id": "42e0a300",
   "metadata": {},
   "outputs": [],
   "source": [
    "quality_for_money_per_country = df.groupby('country').quality_for_money.agg(['mean', 'count']).reset_index().sort_values(by='mean', ascending=False)"
   ]
  },
  {
   "cell_type": "code",
   "execution_count": 238,
   "id": "cd78488f",
   "metadata": {},
   "outputs": [
    {
     "data": {
      "text/html": [
       "<div>\n",
       "<style scoped>\n",
       "    .dataframe tbody tr th:only-of-type {\n",
       "        vertical-align: middle;\n",
       "    }\n",
       "\n",
       "    .dataframe tbody tr th {\n",
       "        vertical-align: top;\n",
       "    }\n",
       "\n",
       "    .dataframe thead th {\n",
       "        text-align: right;\n",
       "    }\n",
       "</style>\n",
       "<table border=\"1\" class=\"dataframe\">\n",
       "  <thead>\n",
       "    <tr style=\"text-align: right;\">\n",
       "      <th></th>\n",
       "      <th>country</th>\n",
       "      <th>mean</th>\n",
       "      <th>count</th>\n",
       "    </tr>\n",
       "  </thead>\n",
       "  <tbody>\n",
       "    <tr>\n",
       "      <th>23</th>\n",
       "      <td>Kosovo</td>\n",
       "      <td>10.627622</td>\n",
       "      <td>4</td>\n",
       "    </tr>\n",
       "    <tr>\n",
       "      <th>42</th>\n",
       "      <td>Ukraine</td>\n",
       "      <td>9.671551</td>\n",
       "      <td>14</td>\n",
       "    </tr>\n",
       "    <tr>\n",
       "      <th>33</th>\n",
       "      <td>Romania</td>\n",
       "      <td>8.873497</td>\n",
       "      <td>120</td>\n",
       "    </tr>\n",
       "    <tr>\n",
       "      <th>20</th>\n",
       "      <td>India</td>\n",
       "      <td>7.129465</td>\n",
       "      <td>9</td>\n",
       "    </tr>\n",
       "    <tr>\n",
       "      <th>4</th>\n",
       "      <td>Bosnia and Herzegovina</td>\n",
       "      <td>6.935897</td>\n",
       "      <td>2</td>\n",
       "    </tr>\n",
       "    <tr>\n",
       "      <th>6</th>\n",
       "      <td>Bulgaria</td>\n",
       "      <td>6.809304</td>\n",
       "      <td>151</td>\n",
       "    </tr>\n",
       "    <tr>\n",
       "      <th>28</th>\n",
       "      <td>Moldova</td>\n",
       "      <td>6.554833</td>\n",
       "      <td>59</td>\n",
       "    </tr>\n",
       "    <tr>\n",
       "      <th>1</th>\n",
       "      <td>Armenia</td>\n",
       "      <td>6.040476</td>\n",
       "      <td>2</td>\n",
       "    </tr>\n",
       "    <tr>\n",
       "      <th>8</th>\n",
       "      <td>Chile</td>\n",
       "      <td>5.772730</td>\n",
       "      <td>4419</td>\n",
       "    </tr>\n",
       "    <tr>\n",
       "      <th>31</th>\n",
       "      <td>Peru</td>\n",
       "      <td>5.629018</td>\n",
       "      <td>16</td>\n",
       "    </tr>\n",
       "    <tr>\n",
       "      <th>26</th>\n",
       "      <td>Macedonia</td>\n",
       "      <td>5.606250</td>\n",
       "      <td>12</td>\n",
       "    </tr>\n",
       "    <tr>\n",
       "      <th>32</th>\n",
       "      <td>Portugal</td>\n",
       "      <td>5.519209</td>\n",
       "      <td>4875</td>\n",
       "    </tr>\n",
       "    <tr>\n",
       "      <th>11</th>\n",
       "      <td>Cyprus</td>\n",
       "      <td>5.514749</td>\n",
       "      <td>11</td>\n",
       "    </tr>\n",
       "    <tr>\n",
       "      <th>35</th>\n",
       "      <td>Slovakia</td>\n",
       "      <td>5.437500</td>\n",
       "      <td>1</td>\n",
       "    </tr>\n",
       "    <tr>\n",
       "      <th>0</th>\n",
       "      <td>Argentina</td>\n",
       "      <td>5.171533</td>\n",
       "      <td>3756</td>\n",
       "    </tr>\n",
       "    <tr>\n",
       "      <th>16</th>\n",
       "      <td>Georgia</td>\n",
       "      <td>5.122236</td>\n",
       "      <td>91</td>\n",
       "    </tr>\n",
       "    <tr>\n",
       "      <th>37</th>\n",
       "      <td>South Africa</td>\n",
       "      <td>4.991244</td>\n",
       "      <td>1296</td>\n",
       "    </tr>\n",
       "    <tr>\n",
       "      <th>9</th>\n",
       "      <td>China</td>\n",
       "      <td>4.944444</td>\n",
       "      <td>1</td>\n",
       "    </tr>\n",
       "    <tr>\n",
       "      <th>38</th>\n",
       "      <td>Spain</td>\n",
       "      <td>4.941238</td>\n",
       "      <td>6573</td>\n",
       "    </tr>\n",
       "    <tr>\n",
       "      <th>29</th>\n",
       "      <td>Morocco</td>\n",
       "      <td>4.836485</td>\n",
       "      <td>28</td>\n",
       "    </tr>\n",
       "    <tr>\n",
       "      <th>18</th>\n",
       "      <td>Greece</td>\n",
       "      <td>4.626087</td>\n",
       "      <td>466</td>\n",
       "    </tr>\n",
       "    <tr>\n",
       "      <th>36</th>\n",
       "      <td>Slovenia</td>\n",
       "      <td>4.562877</td>\n",
       "      <td>80</td>\n",
       "    </tr>\n",
       "    <tr>\n",
       "      <th>12</th>\n",
       "      <td>Czech Republic</td>\n",
       "      <td>4.286806</td>\n",
       "      <td>12</td>\n",
       "    </tr>\n",
       "    <tr>\n",
       "      <th>5</th>\n",
       "      <td>Brazil</td>\n",
       "      <td>4.244852</td>\n",
       "      <td>47</td>\n",
       "    </tr>\n",
       "    <tr>\n",
       "      <th>2</th>\n",
       "      <td>Australia</td>\n",
       "      <td>4.243219</td>\n",
       "      <td>2294</td>\n",
       "    </tr>\n",
       "    <tr>\n",
       "      <th>43</th>\n",
       "      <td>Uruguay</td>\n",
       "      <td>4.196072</td>\n",
       "      <td>113</td>\n",
       "    </tr>\n",
       "    <tr>\n",
       "      <th>30</th>\n",
       "      <td>New Zealand</td>\n",
       "      <td>4.151508</td>\n",
       "      <td>1380</td>\n",
       "    </tr>\n",
       "    <tr>\n",
       "      <th>40</th>\n",
       "      <td>Turkey</td>\n",
       "      <td>4.147816</td>\n",
       "      <td>91</td>\n",
       "    </tr>\n",
       "    <tr>\n",
       "      <th>27</th>\n",
       "      <td>Mexico</td>\n",
       "      <td>4.143799</td>\n",
       "      <td>70</td>\n",
       "    </tr>\n",
       "    <tr>\n",
       "      <th>10</th>\n",
       "      <td>Croatia</td>\n",
       "      <td>4.117756</td>\n",
       "      <td>71</td>\n",
       "    </tr>\n",
       "    <tr>\n",
       "      <th>34</th>\n",
       "      <td>Serbia</td>\n",
       "      <td>4.072111</td>\n",
       "      <td>12</td>\n",
       "    </tr>\n",
       "    <tr>\n",
       "      <th>25</th>\n",
       "      <td>Luxembourg</td>\n",
       "      <td>3.943666</td>\n",
       "      <td>6</td>\n",
       "    </tr>\n",
       "    <tr>\n",
       "      <th>15</th>\n",
       "      <td>France</td>\n",
       "      <td>3.837816</td>\n",
       "      <td>17776</td>\n",
       "    </tr>\n",
       "    <tr>\n",
       "      <th>3</th>\n",
       "      <td>Austria</td>\n",
       "      <td>3.812679</td>\n",
       "      <td>2808</td>\n",
       "    </tr>\n",
       "    <tr>\n",
       "      <th>17</th>\n",
       "      <td>Germany</td>\n",
       "      <td>3.707988</td>\n",
       "      <td>2120</td>\n",
       "    </tr>\n",
       "    <tr>\n",
       "      <th>21</th>\n",
       "      <td>Israel</td>\n",
       "      <td>3.693859</td>\n",
       "      <td>493</td>\n",
       "    </tr>\n",
       "    <tr>\n",
       "      <th>24</th>\n",
       "      <td>Lebanon</td>\n",
       "      <td>3.643752</td>\n",
       "      <td>35</td>\n",
       "    </tr>\n",
       "    <tr>\n",
       "      <th>19</th>\n",
       "      <td>Hungary</td>\n",
       "      <td>3.565586</td>\n",
       "      <td>149</td>\n",
       "    </tr>\n",
       "    <tr>\n",
       "      <th>22</th>\n",
       "      <td>Italy</td>\n",
       "      <td>3.475651</td>\n",
       "      <td>16914</td>\n",
       "    </tr>\n",
       "    <tr>\n",
       "      <th>41</th>\n",
       "      <td>US</td>\n",
       "      <td>3.344595</td>\n",
       "      <td>54267</td>\n",
       "    </tr>\n",
       "    <tr>\n",
       "      <th>7</th>\n",
       "      <td>Canada</td>\n",
       "      <td>3.147537</td>\n",
       "      <td>253</td>\n",
       "    </tr>\n",
       "    <tr>\n",
       "      <th>39</th>\n",
       "      <td>Switzerland</td>\n",
       "      <td>2.323662</td>\n",
       "      <td>9</td>\n",
       "    </tr>\n",
       "    <tr>\n",
       "      <th>14</th>\n",
       "      <td>England</td>\n",
       "      <td>1.913598</td>\n",
       "      <td>69</td>\n",
       "    </tr>\n",
       "    <tr>\n",
       "      <th>13</th>\n",
       "      <td>Egypt</td>\n",
       "      <td>NaN</td>\n",
       "      <td>0</td>\n",
       "    </tr>\n",
       "  </tbody>\n",
       "</table>\n",
       "</div>"
      ],
      "text/plain": [
       "                   country       mean  count\n",
       "23                  Kosovo  10.627622      4\n",
       "42                 Ukraine   9.671551     14\n",
       "33                 Romania   8.873497    120\n",
       "20                   India   7.129465      9\n",
       "4   Bosnia and Herzegovina   6.935897      2\n",
       "6                 Bulgaria   6.809304    151\n",
       "28                 Moldova   6.554833     59\n",
       "1                  Armenia   6.040476      2\n",
       "8                    Chile   5.772730   4419\n",
       "31                    Peru   5.629018     16\n",
       "26               Macedonia   5.606250     12\n",
       "32                Portugal   5.519209   4875\n",
       "11                  Cyprus   5.514749     11\n",
       "35                Slovakia   5.437500      1\n",
       "0                Argentina   5.171533   3756\n",
       "16                 Georgia   5.122236     91\n",
       "37            South Africa   4.991244   1296\n",
       "9                    China   4.944444      1\n",
       "38                   Spain   4.941238   6573\n",
       "29                 Morocco   4.836485     28\n",
       "18                  Greece   4.626087    466\n",
       "36                Slovenia   4.562877     80\n",
       "12          Czech Republic   4.286806     12\n",
       "5                   Brazil   4.244852     47\n",
       "2                Australia   4.243219   2294\n",
       "43                 Uruguay   4.196072    113\n",
       "30             New Zealand   4.151508   1380\n",
       "40                  Turkey   4.147816     91\n",
       "27                  Mexico   4.143799     70\n",
       "10                 Croatia   4.117756     71\n",
       "34                  Serbia   4.072111     12\n",
       "25              Luxembourg   3.943666      6\n",
       "15                  France   3.837816  17776\n",
       "3                  Austria   3.812679   2808\n",
       "17                 Germany   3.707988   2120\n",
       "21                  Israel   3.693859    493\n",
       "24                 Lebanon   3.643752     35\n",
       "19                 Hungary   3.565586    149\n",
       "22                   Italy   3.475651  16914\n",
       "41                      US   3.344595  54267\n",
       "7                   Canada   3.147537    253\n",
       "39             Switzerland   2.323662      9\n",
       "14                 England   1.913598     69\n",
       "13                   Egypt        NaN      0"
      ]
     },
     "execution_count": 238,
     "metadata": {},
     "output_type": "execute_result"
    }
   ],
   "source": [
    "quality_for_money_per_country"
   ]
  },
  {
   "cell_type": "code",
   "execution_count": 239,
   "id": "260c623a",
   "metadata": {},
   "outputs": [],
   "source": [
    "wines_tastings_per_country = df.groupby('country').title.agg('count').reset_index()"
   ]
  },
  {
   "cell_type": "code",
   "execution_count": 240,
   "id": "a567fe65",
   "metadata": {},
   "outputs": [],
   "source": [
    "top_10_producing_countries = wines_tastings_per_country.sort_values(by='title', ascending=False)[:11]['country'].tolist()"
   ]
  },
  {
   "cell_type": "code",
   "execution_count": 241,
   "id": "9735022a",
   "metadata": {},
   "outputs": [
    {
     "data": {
      "text/plain": [
       "['US',\n",
       " 'France',\n",
       " 'Italy',\n",
       " 'Spain',\n",
       " 'Portugal',\n",
       " 'Chile',\n",
       " 'Argentina',\n",
       " 'Austria',\n",
       " 'Australia',\n",
       " 'Germany',\n",
       " 'New Zealand']"
      ]
     },
     "execution_count": 241,
     "metadata": {},
     "output_type": "execute_result"
    }
   ],
   "source": [
    "top_10_producing_countries"
   ]
  },
  {
   "cell_type": "code",
   "execution_count": 242,
   "id": "a252aee4",
   "metadata": {},
   "outputs": [
    {
     "data": {
      "text/html": [
       "<div>\n",
       "<style scoped>\n",
       "    .dataframe tbody tr th:only-of-type {\n",
       "        vertical-align: middle;\n",
       "    }\n",
       "\n",
       "    .dataframe tbody tr th {\n",
       "        vertical-align: top;\n",
       "    }\n",
       "\n",
       "    .dataframe thead th {\n",
       "        text-align: right;\n",
       "    }\n",
       "</style>\n",
       "<table border=\"1\" class=\"dataframe\">\n",
       "  <thead>\n",
       "    <tr style=\"text-align: right;\">\n",
       "      <th></th>\n",
       "      <th>country</th>\n",
       "      <th>mean</th>\n",
       "      <th>count</th>\n",
       "    </tr>\n",
       "  </thead>\n",
       "  <tbody>\n",
       "    <tr>\n",
       "      <th>8</th>\n",
       "      <td>Chile</td>\n",
       "      <td>5.772730</td>\n",
       "      <td>4419</td>\n",
       "    </tr>\n",
       "    <tr>\n",
       "      <th>32</th>\n",
       "      <td>Portugal</td>\n",
       "      <td>5.519209</td>\n",
       "      <td>4875</td>\n",
       "    </tr>\n",
       "    <tr>\n",
       "      <th>0</th>\n",
       "      <td>Argentina</td>\n",
       "      <td>5.171533</td>\n",
       "      <td>3756</td>\n",
       "    </tr>\n",
       "    <tr>\n",
       "      <th>38</th>\n",
       "      <td>Spain</td>\n",
       "      <td>4.941238</td>\n",
       "      <td>6573</td>\n",
       "    </tr>\n",
       "    <tr>\n",
       "      <th>2</th>\n",
       "      <td>Australia</td>\n",
       "      <td>4.243219</td>\n",
       "      <td>2294</td>\n",
       "    </tr>\n",
       "    <tr>\n",
       "      <th>30</th>\n",
       "      <td>New Zealand</td>\n",
       "      <td>4.151508</td>\n",
       "      <td>1380</td>\n",
       "    </tr>\n",
       "    <tr>\n",
       "      <th>15</th>\n",
       "      <td>France</td>\n",
       "      <td>3.837816</td>\n",
       "      <td>17776</td>\n",
       "    </tr>\n",
       "    <tr>\n",
       "      <th>3</th>\n",
       "      <td>Austria</td>\n",
       "      <td>3.812679</td>\n",
       "      <td>2808</td>\n",
       "    </tr>\n",
       "    <tr>\n",
       "      <th>17</th>\n",
       "      <td>Germany</td>\n",
       "      <td>3.707988</td>\n",
       "      <td>2120</td>\n",
       "    </tr>\n",
       "    <tr>\n",
       "      <th>22</th>\n",
       "      <td>Italy</td>\n",
       "      <td>3.475651</td>\n",
       "      <td>16914</td>\n",
       "    </tr>\n",
       "    <tr>\n",
       "      <th>41</th>\n",
       "      <td>US</td>\n",
       "      <td>3.344595</td>\n",
       "      <td>54267</td>\n",
       "    </tr>\n",
       "  </tbody>\n",
       "</table>\n",
       "</div>"
      ],
      "text/plain": [
       "        country      mean  count\n",
       "8         Chile  5.772730   4419\n",
       "32     Portugal  5.519209   4875\n",
       "0     Argentina  5.171533   3756\n",
       "38        Spain  4.941238   6573\n",
       "2     Australia  4.243219   2294\n",
       "30  New Zealand  4.151508   1380\n",
       "15       France  3.837816  17776\n",
       "3       Austria  3.812679   2808\n",
       "17      Germany  3.707988   2120\n",
       "22        Italy  3.475651  16914\n",
       "41           US  3.344595  54267"
      ]
     },
     "execution_count": 242,
     "metadata": {},
     "output_type": "execute_result"
    }
   ],
   "source": [
    "quality_for_money_per_country[quality_for_money_per_country['country'].isin(top_10_producing_countries)]"
   ]
  },
  {
   "cell_type": "markdown",
   "id": "4900bb74",
   "metadata": {},
   "source": [
    "**Which wine varieties are critic favourites?**"
   ]
  },
  {
   "cell_type": "code",
   "execution_count": 243,
   "id": "e19ea339",
   "metadata": {},
   "outputs": [],
   "source": [
    "average_score_per_variety = df.groupby('variety').points.agg(['mean', 'count']).sort_values(by='mean', ascending=False).reset_index()"
   ]
  },
  {
   "cell_type": "code",
   "execution_count": 244,
   "id": "5d6fe1bd",
   "metadata": {},
   "outputs": [
    {
     "data": {
      "text/html": [
       "<div>\n",
       "<style scoped>\n",
       "    .dataframe tbody tr th:only-of-type {\n",
       "        vertical-align: middle;\n",
       "    }\n",
       "\n",
       "    .dataframe tbody tr th {\n",
       "        vertical-align: top;\n",
       "    }\n",
       "\n",
       "    .dataframe thead th {\n",
       "        text-align: right;\n",
       "    }\n",
       "</style>\n",
       "<table border=\"1\" class=\"dataframe\">\n",
       "  <thead>\n",
       "    <tr style=\"text-align: right;\">\n",
       "      <th></th>\n",
       "      <th>variety</th>\n",
       "      <th>mean</th>\n",
       "      <th>count</th>\n",
       "    </tr>\n",
       "  </thead>\n",
       "  <tbody>\n",
       "    <tr>\n",
       "      <th>0</th>\n",
       "      <td>Terrantez</td>\n",
       "      <td>95.000000</td>\n",
       "      <td>1</td>\n",
       "    </tr>\n",
       "    <tr>\n",
       "      <th>1</th>\n",
       "      <td>Tinta del Pais</td>\n",
       "      <td>95.000000</td>\n",
       "      <td>2</td>\n",
       "    </tr>\n",
       "    <tr>\n",
       "      <th>2</th>\n",
       "      <td>Gelber Traminer</td>\n",
       "      <td>95.000000</td>\n",
       "      <td>1</td>\n",
       "    </tr>\n",
       "    <tr>\n",
       "      <th>3</th>\n",
       "      <td>Bual</td>\n",
       "      <td>94.142857</td>\n",
       "      <td>7</td>\n",
       "    </tr>\n",
       "    <tr>\n",
       "      <th>4</th>\n",
       "      <td>Sercial</td>\n",
       "      <td>94.000000</td>\n",
       "      <td>1</td>\n",
       "    </tr>\n",
       "    <tr>\n",
       "      <th>5</th>\n",
       "      <td>Riesling-Chardonnay</td>\n",
       "      <td>94.000000</td>\n",
       "      <td>1</td>\n",
       "    </tr>\n",
       "    <tr>\n",
       "      <th>6</th>\n",
       "      <td>Ramisco</td>\n",
       "      <td>93.000000</td>\n",
       "      <td>1</td>\n",
       "    </tr>\n",
       "    <tr>\n",
       "      <th>7</th>\n",
       "      <td>Garnacha-Cariñena</td>\n",
       "      <td>93.000000</td>\n",
       "      <td>1</td>\n",
       "    </tr>\n",
       "    <tr>\n",
       "      <th>8</th>\n",
       "      <td>Blauburgunder</td>\n",
       "      <td>93.000000</td>\n",
       "      <td>1</td>\n",
       "    </tr>\n",
       "    <tr>\n",
       "      <th>9</th>\n",
       "      <td>Muscadelle</td>\n",
       "      <td>92.500000</td>\n",
       "      <td>10</td>\n",
       "    </tr>\n",
       "    <tr>\n",
       "      <th>10</th>\n",
       "      <td>Rosenmuskateller</td>\n",
       "      <td>92.500000</td>\n",
       "      <td>2</td>\n",
       "    </tr>\n",
       "    <tr>\n",
       "      <th>11</th>\n",
       "      <td>Roviello</td>\n",
       "      <td>92.500000</td>\n",
       "      <td>2</td>\n",
       "    </tr>\n",
       "    <tr>\n",
       "      <th>12</th>\n",
       "      <td>Sirica</td>\n",
       "      <td>92.500000</td>\n",
       "      <td>2</td>\n",
       "    </tr>\n",
       "    <tr>\n",
       "      <th>13</th>\n",
       "      <td>Torontel</td>\n",
       "      <td>92.000000</td>\n",
       "      <td>1</td>\n",
       "    </tr>\n",
       "    <tr>\n",
       "      <th>14</th>\n",
       "      <td>Caprettone</td>\n",
       "      <td>92.000000</td>\n",
       "      <td>1</td>\n",
       "    </tr>\n",
       "    <tr>\n",
       "      <th>15</th>\n",
       "      <td>Moscato di Noto</td>\n",
       "      <td>92.000000</td>\n",
       "      <td>1</td>\n",
       "    </tr>\n",
       "    <tr>\n",
       "      <th>16</th>\n",
       "      <td>Centesimino</td>\n",
       "      <td>92.000000</td>\n",
       "      <td>1</td>\n",
       "    </tr>\n",
       "    <tr>\n",
       "      <th>17</th>\n",
       "      <td>Sauvignon Blanc-Assyrtiko</td>\n",
       "      <td>92.000000</td>\n",
       "      <td>1</td>\n",
       "    </tr>\n",
       "    <tr>\n",
       "      <th>18</th>\n",
       "      <td>Vespaiolo</td>\n",
       "      <td>92.000000</td>\n",
       "      <td>1</td>\n",
       "    </tr>\n",
       "    <tr>\n",
       "      <th>19</th>\n",
       "      <td>Chardonnay Weissburgunder</td>\n",
       "      <td>92.000000</td>\n",
       "      <td>2</td>\n",
       "    </tr>\n",
       "    <tr>\n",
       "      <th>20</th>\n",
       "      <td>Pignolo</td>\n",
       "      <td>92.000000</td>\n",
       "      <td>1</td>\n",
       "    </tr>\n",
       "  </tbody>\n",
       "</table>\n",
       "</div>"
      ],
      "text/plain": [
       "                      variety       mean  count\n",
       "0                   Terrantez  95.000000      1\n",
       "1              Tinta del Pais  95.000000      2\n",
       "2             Gelber Traminer  95.000000      1\n",
       "3                        Bual  94.142857      7\n",
       "4                     Sercial  94.000000      1\n",
       "5         Riesling-Chardonnay  94.000000      1\n",
       "6                     Ramisco  93.000000      1\n",
       "7           Garnacha-Cariñena  93.000000      1\n",
       "8               Blauburgunder  93.000000      1\n",
       "9                  Muscadelle  92.500000     10\n",
       "10           Rosenmuskateller  92.500000      2\n",
       "11                   Roviello  92.500000      2\n",
       "12                     Sirica  92.500000      2\n",
       "13                   Torontel  92.000000      1\n",
       "14                 Caprettone  92.000000      1\n",
       "15            Moscato di Noto  92.000000      1\n",
       "16                Centesimino  92.000000      1\n",
       "17  Sauvignon Blanc-Assyrtiko  92.000000      1\n",
       "18                  Vespaiolo  92.000000      1\n",
       "19  Chardonnay Weissburgunder  92.000000      2\n",
       "20                    Pignolo  92.000000      1"
      ]
     },
     "execution_count": 244,
     "metadata": {},
     "output_type": "execute_result"
    }
   ],
   "source": [
    "average_score_per_variety[:21]"
   ]
  },
  {
   "cell_type": "code",
   "execution_count": 245,
   "id": "8983e4d9",
   "metadata": {},
   "outputs": [],
   "source": [
    "average_score_per_variety = average_score_per_variety.sort_values(by='count', ascending=False)"
   ]
  },
  {
   "cell_type": "code",
   "execution_count": 246,
   "id": "9008e20c",
   "metadata": {},
   "outputs": [],
   "source": [
    "average_score_per_variety['count_cumulative_perc'] = average_score_per_variety['count'].cumsum()/average_score_per_variety['count'].sum()"
   ]
  },
  {
   "cell_type": "code",
   "execution_count": 247,
   "id": "e9e4e94d",
   "metadata": {},
   "outputs": [],
   "source": [
    "average_score_per_variety_top_20_volume = average_score_per_variety[:21]"
   ]
  },
  {
   "cell_type": "code",
   "execution_count": 248,
   "id": "0d8304ee",
   "metadata": {},
   "outputs": [
    {
     "data": {
      "text/html": [
       "<div>\n",
       "<style scoped>\n",
       "    .dataframe tbody tr th:only-of-type {\n",
       "        vertical-align: middle;\n",
       "    }\n",
       "\n",
       "    .dataframe tbody tr th {\n",
       "        vertical-align: top;\n",
       "    }\n",
       "\n",
       "    .dataframe thead th {\n",
       "        text-align: right;\n",
       "    }\n",
       "</style>\n",
       "<table border=\"1\" class=\"dataframe\">\n",
       "  <thead>\n",
       "    <tr style=\"text-align: right;\">\n",
       "      <th></th>\n",
       "      <th>variety</th>\n",
       "      <th>mean</th>\n",
       "    </tr>\n",
       "  </thead>\n",
       "  <tbody>\n",
       "    <tr>\n",
       "      <th>0</th>\n",
       "      <td>Nebbiolo</td>\n",
       "      <td>90.251070</td>\n",
       "    </tr>\n",
       "    <tr>\n",
       "      <th>1</th>\n",
       "      <td>Champagne Blend</td>\n",
       "      <td>89.663324</td>\n",
       "    </tr>\n",
       "    <tr>\n",
       "      <th>2</th>\n",
       "      <td>Riesling</td>\n",
       "      <td>89.450183</td>\n",
       "    </tr>\n",
       "    <tr>\n",
       "      <th>3</th>\n",
       "      <td>Pinot Noir</td>\n",
       "      <td>89.411468</td>\n",
       "    </tr>\n",
       "    <tr>\n",
       "      <th>4</th>\n",
       "      <td>Syrah</td>\n",
       "      <td>89.286577</td>\n",
       "    </tr>\n",
       "    <tr>\n",
       "      <th>5</th>\n",
       "      <td>Rhône-style Red Blend</td>\n",
       "      <td>89.153637</td>\n",
       "    </tr>\n",
       "    <tr>\n",
       "      <th>6</th>\n",
       "      <td>Bordeaux-style Red Blend</td>\n",
       "      <td>89.106435</td>\n",
       "    </tr>\n",
       "    <tr>\n",
       "      <th>7</th>\n",
       "      <td>Portuguese Red</td>\n",
       "      <td>88.810624</td>\n",
       "    </tr>\n",
       "    <tr>\n",
       "      <th>8</th>\n",
       "      <td>Cabernet Sauvignon</td>\n",
       "      <td>88.607580</td>\n",
       "    </tr>\n",
       "    <tr>\n",
       "      <th>9</th>\n",
       "      <td>Sangiovese</td>\n",
       "      <td>88.550794</td>\n",
       "    </tr>\n",
       "    <tr>\n",
       "      <th>10</th>\n",
       "      <td>Pinot Gris</td>\n",
       "      <td>88.496220</td>\n",
       "    </tr>\n",
       "    <tr>\n",
       "      <th>11</th>\n",
       "      <td>Red Blend</td>\n",
       "      <td>88.380282</td>\n",
       "    </tr>\n",
       "    <tr>\n",
       "      <th>12</th>\n",
       "      <td>Chardonnay</td>\n",
       "      <td>88.340083</td>\n",
       "    </tr>\n",
       "    <tr>\n",
       "      <th>13</th>\n",
       "      <td>Sparkling Blend</td>\n",
       "      <td>88.045053</td>\n",
       "    </tr>\n",
       "    <tr>\n",
       "      <th>14</th>\n",
       "      <td>Malbec</td>\n",
       "      <td>87.983032</td>\n",
       "    </tr>\n",
       "    <tr>\n",
       "      <th>15</th>\n",
       "      <td>Zinfandel</td>\n",
       "      <td>87.828666</td>\n",
       "    </tr>\n",
       "    <tr>\n",
       "      <th>16</th>\n",
       "      <td>Tempranillo</td>\n",
       "      <td>87.514365</td>\n",
       "    </tr>\n",
       "    <tr>\n",
       "      <th>17</th>\n",
       "      <td>Sauvignon Blanc</td>\n",
       "      <td>87.429636</td>\n",
       "    </tr>\n",
       "    <tr>\n",
       "      <th>18</th>\n",
       "      <td>White Blend</td>\n",
       "      <td>87.352966</td>\n",
       "    </tr>\n",
       "    <tr>\n",
       "      <th>19</th>\n",
       "      <td>Merlot</td>\n",
       "      <td>87.208575</td>\n",
       "    </tr>\n",
       "    <tr>\n",
       "      <th>20</th>\n",
       "      <td>Rosé</td>\n",
       "      <td>86.846240</td>\n",
       "    </tr>\n",
       "  </tbody>\n",
       "</table>\n",
       "</div>"
      ],
      "text/plain": [
       "                     variety       mean\n",
       "0                   Nebbiolo  90.251070\n",
       "1            Champagne Blend  89.663324\n",
       "2                   Riesling  89.450183\n",
       "3                 Pinot Noir  89.411468\n",
       "4                      Syrah  89.286577\n",
       "5      Rhône-style Red Blend  89.153637\n",
       "6   Bordeaux-style Red Blend  89.106435\n",
       "7             Portuguese Red  88.810624\n",
       "8         Cabernet Sauvignon  88.607580\n",
       "9                 Sangiovese  88.550794\n",
       "10                Pinot Gris  88.496220\n",
       "11                 Red Blend  88.380282\n",
       "12                Chardonnay  88.340083\n",
       "13           Sparkling Blend  88.045053\n",
       "14                    Malbec  87.983032\n",
       "15                 Zinfandel  87.828666\n",
       "16               Tempranillo  87.514365\n",
       "17           Sauvignon Blanc  87.429636\n",
       "18               White Blend  87.352966\n",
       "19                    Merlot  87.208575\n",
       "20                      Rosé  86.846240"
      ]
     },
     "execution_count": 248,
     "metadata": {},
     "output_type": "execute_result"
    }
   ],
   "source": [
    "average_score_per_variety_top_20_volume[['variety','mean']].sort_values(by='mean', ascending=False).reset_index(drop=True)"
   ]
  },
  {
   "cell_type": "markdown",
   "id": "f57eb090",
   "metadata": {},
   "source": [
    "**Are their some common traits to the most expensive wines in the dataset?**"
   ]
  },
  {
   "cell_type": "code",
   "execution_count": 249,
   "id": "155703de",
   "metadata": {},
   "outputs": [],
   "source": [
    "ninetynineth_percentile_price = df.price.quantile(0.99)"
   ]
  },
  {
   "cell_type": "code",
   "execution_count": 250,
   "id": "0b2ed1b1",
   "metadata": {},
   "outputs": [],
   "source": [
    "df_most_expensive_wines = df[df['price']>ninetynineth_percentile_price]"
   ]
  },
  {
   "cell_type": "code",
   "execution_count": 251,
   "id": "e2537702",
   "metadata": {},
   "outputs": [
    {
     "data": {
      "text/html": [
       "<div>\n",
       "<style scoped>\n",
       "    .dataframe tbody tr th:only-of-type {\n",
       "        vertical-align: middle;\n",
       "    }\n",
       "\n",
       "    .dataframe tbody tr th {\n",
       "        vertical-align: top;\n",
       "    }\n",
       "\n",
       "    .dataframe thead th {\n",
       "        text-align: right;\n",
       "    }\n",
       "</style>\n",
       "<table border=\"1\" class=\"dataframe\">\n",
       "  <thead>\n",
       "    <tr style=\"text-align: right;\">\n",
       "      <th></th>\n",
       "      <th>country</th>\n",
       "      <th>description</th>\n",
       "      <th>designation</th>\n",
       "      <th>points</th>\n",
       "      <th>price</th>\n",
       "      <th>province</th>\n",
       "      <th>region_1</th>\n",
       "      <th>region_2</th>\n",
       "      <th>taster_name</th>\n",
       "      <th>title</th>\n",
       "      <th>variety</th>\n",
       "      <th>winery</th>\n",
       "      <th>vintage</th>\n",
       "      <th>quality_for_money</th>\n",
       "    </tr>\n",
       "  </thead>\n",
       "  <tbody>\n",
       "    <tr>\n",
       "      <th>284</th>\n",
       "      <td>Argentina</td>\n",
       "      <td>This huge Malbec defines jammy and concentrate...</td>\n",
       "      <td>Marchiori Vineyard Block C2</td>\n",
       "      <td>92</td>\n",
       "      <td>215.0</td>\n",
       "      <td>Mendoza Province</td>\n",
       "      <td>Perdriel</td>\n",
       "      <td>NaN</td>\n",
       "      <td>Michael Schachner</td>\n",
       "      <td>Viña Cobos 2011 Marchiori Vineyard Block C2 Ma...</td>\n",
       "      <td>Malbec</td>\n",
       "      <td>Viña Cobos</td>\n",
       "      <td>2011.0</td>\n",
       "      <td>0.427907</td>\n",
       "    </tr>\n",
       "    <tr>\n",
       "      <th>345</th>\n",
       "      <td>Australia</td>\n",
       "      <td>This wine contains some material over 100 year...</td>\n",
       "      <td>Rare</td>\n",
       "      <td>100</td>\n",
       "      <td>350.0</td>\n",
       "      <td>Victoria</td>\n",
       "      <td>Rutherglen</td>\n",
       "      <td>NaN</td>\n",
       "      <td>Joe Czerwinski</td>\n",
       "      <td>Chambers Rosewood Vineyards NV Rare Muscat (Ru...</td>\n",
       "      <td>Muscat</td>\n",
       "      <td>Chambers Rosewood Vineyards</td>\n",
       "      <td>NaN</td>\n",
       "      <td>0.285714</td>\n",
       "    </tr>\n",
       "    <tr>\n",
       "      <th>346</th>\n",
       "      <td>Australia</td>\n",
       "      <td>This deep brown wine smells like a damp, mossy...</td>\n",
       "      <td>Rare</td>\n",
       "      <td>98</td>\n",
       "      <td>350.0</td>\n",
       "      <td>Victoria</td>\n",
       "      <td>Rutherglen</td>\n",
       "      <td>NaN</td>\n",
       "      <td>Joe Czerwinski</td>\n",
       "      <td>Chambers Rosewood Vineyards NV Rare Muscadelle...</td>\n",
       "      <td>Muscadelle</td>\n",
       "      <td>Chambers Rosewood Vineyards</td>\n",
       "      <td>NaN</td>\n",
       "      <td>0.280000</td>\n",
       "    </tr>\n",
       "    <tr>\n",
       "      <th>347</th>\n",
       "      <td>Germany</td>\n",
       "      <td>Dusty, saffron-spiced earthiness is juxtaposed...</td>\n",
       "      <td>Kiedrich Gräfenberg Trockenbeerenauslese</td>\n",
       "      <td>97</td>\n",
       "      <td>775.0</td>\n",
       "      <td>Rheingau</td>\n",
       "      <td>NaN</td>\n",
       "      <td>NaN</td>\n",
       "      <td>Anna Lee C. Iijima</td>\n",
       "      <td>Robert Weil 2014 Kiedrich Gräfenberg Trockenbe...</td>\n",
       "      <td>Riesling</td>\n",
       "      <td>Robert Weil</td>\n",
       "      <td>2014.0</td>\n",
       "      <td>0.125161</td>\n",
       "    </tr>\n",
       "    <tr>\n",
       "      <th>349</th>\n",
       "      <td>Australia</td>\n",
       "      <td>RunRig is always complex, and the 2012 doesn't...</td>\n",
       "      <td>RunRig</td>\n",
       "      <td>97</td>\n",
       "      <td>225.0</td>\n",
       "      <td>South Australia</td>\n",
       "      <td>Barossa</td>\n",
       "      <td>NaN</td>\n",
       "      <td>Joe Czerwinski</td>\n",
       "      <td>Torbreck 2012 RunRig Shiraz-Viognier (Barossa)</td>\n",
       "      <td>Shiraz-Viognier</td>\n",
       "      <td>Torbreck</td>\n",
       "      <td>2012.0</td>\n",
       "      <td>0.431111</td>\n",
       "    </tr>\n",
       "  </tbody>\n",
       "</table>\n",
       "</div>"
      ],
      "text/plain": [
       "       country                                        description  \\\n",
       "284  Argentina  This huge Malbec defines jammy and concentrate...   \n",
       "345  Australia  This wine contains some material over 100 year...   \n",
       "346  Australia  This deep brown wine smells like a damp, mossy...   \n",
       "347    Germany  Dusty, saffron-spiced earthiness is juxtaposed...   \n",
       "349  Australia  RunRig is always complex, and the 2012 doesn't...   \n",
       "\n",
       "                                  designation  points  price  \\\n",
       "284               Marchiori Vineyard Block C2      92  215.0   \n",
       "345                                      Rare     100  350.0   \n",
       "346                                      Rare      98  350.0   \n",
       "347  Kiedrich Gräfenberg Trockenbeerenauslese      97  775.0   \n",
       "349                                    RunRig      97  225.0   \n",
       "\n",
       "             province    region_1 region_2         taster_name  \\\n",
       "284  Mendoza Province    Perdriel      NaN   Michael Schachner   \n",
       "345          Victoria  Rutherglen      NaN      Joe Czerwinski   \n",
       "346          Victoria  Rutherglen      NaN      Joe Czerwinski   \n",
       "347          Rheingau         NaN      NaN  Anna Lee C. Iijima   \n",
       "349   South Australia     Barossa      NaN      Joe Czerwinski   \n",
       "\n",
       "                                                 title          variety  \\\n",
       "284  Viña Cobos 2011 Marchiori Vineyard Block C2 Ma...           Malbec   \n",
       "345  Chambers Rosewood Vineyards NV Rare Muscat (Ru...           Muscat   \n",
       "346  Chambers Rosewood Vineyards NV Rare Muscadelle...       Muscadelle   \n",
       "347  Robert Weil 2014 Kiedrich Gräfenberg Trockenbe...         Riesling   \n",
       "349     Torbreck 2012 RunRig Shiraz-Viognier (Barossa)  Shiraz-Viognier   \n",
       "\n",
       "                          winery  vintage  quality_for_money  \n",
       "284                   Viña Cobos   2011.0           0.427907  \n",
       "345  Chambers Rosewood Vineyards      NaN           0.285714  \n",
       "346  Chambers Rosewood Vineyards      NaN           0.280000  \n",
       "347                  Robert Weil   2014.0           0.125161  \n",
       "349                     Torbreck   2012.0           0.431111  "
      ]
     },
     "execution_count": 251,
     "metadata": {},
     "output_type": "execute_result"
    }
   ],
   "source": [
    "df_most_expensive_wines.head()"
   ]
  },
  {
   "cell_type": "code",
   "execution_count": 252,
   "id": "341daa6b",
   "metadata": {},
   "outputs": [
    {
     "data": {
      "text/plain": [
       "(1183, 14)"
      ]
     },
     "execution_count": 252,
     "metadata": {},
     "output_type": "execute_result"
    }
   ],
   "source": [
    "df_most_expensive_wines.shape"
   ]
  },
  {
   "cell_type": "code",
   "execution_count": 253,
   "id": "4b6ccbf9",
   "metadata": {},
   "outputs": [
    {
     "data": {
      "image/png": "[encoded data removed]",
      "text/plain": [
       "<Figure size 432x288 with 1 Axes>"
      ]
     },
     "metadata": {
      "needs_background": "light"
     },
     "output_type": "display_data"
    }
   ],
   "source": [
    "(df_most_expensive_wines.points.value_counts().sort_index()).plot(kind=\"bar\");"
   ]
  },
  {
   "cell_type": "code",
   "execution_count": 254,
   "id": "f213edf6",
   "metadata": {},
   "outputs": [
    {
     "data": {
      "text/plain": [
       "count    1163.000000\n",
       "mean     2008.296647\n",
       "std         8.191483\n",
       "min      1934.000000\n",
       "25%      2007.000000\n",
       "50%      2010.000000\n",
       "75%      2012.000000\n",
       "max      2015.000000\n",
       "Name: vintage, dtype: float64"
      ]
     },
     "execution_count": 254,
     "metadata": {},
     "output_type": "execute_result"
    }
   ],
   "source": [
    "df_most_expensive_wines.vintage.describe()"
   ]
  },
  {
   "cell_type": "code",
   "execution_count": 255,
   "id": "d03c4b02",
   "metadata": {},
   "outputs": [
    {
     "data": {
      "image/png": "[encoded data removed]",
      "text/plain": [
       "<Figure size 432x288 with 1 Axes>"
      ]
     },
     "metadata": {},
     "output_type": "display_data"
    }
   ],
   "source": [
    "country_most_expensive_val = df_most_expensive_wines.country.value_counts()\n",
    "(country_most_expensive_val[:11]).plot(kind='pie');"
   ]
  },
  {
   "cell_type": "code",
   "execution_count": 256,
   "id": "0ebdedc6",
   "metadata": {},
   "outputs": [
    {
     "data": {
      "image/png": "[encoded data removed]",
      "text/plain": [
       "<Figure size 432x288 with 1 Axes>"
      ]
     },
     "metadata": {},
     "output_type": "display_data"
    }
   ],
   "source": [
    "variety_most_expensive_val = df_most_expensive_wines.variety.value_counts()\n",
    "(variety_most_expensive_val[:11]).plot(kind='pie');"
   ]
  },
  {
   "cell_type": "markdown",
   "id": "6c293b6b",
   "metadata": {},
   "source": [
    "**Can we predict the quality of a wine using only its geographic origin, price and grape variety?**"
   ]
  },
  {
   "cell_type": "code",
   "execution_count": 257,
   "id": "71568c82",
   "metadata": {},
   "outputs": [
    {
     "data": {
      "text/plain": [
       "country              0.000000\n",
       "description          0.000000\n",
       "designation          0.288257\n",
       "points               0.000000\n",
       "price                0.069215\n",
       "province             0.000485\n",
       "region_1             0.163475\n",
       "region_2             0.611367\n",
       "taster_name          0.201922\n",
       "title                0.000000\n",
       "variety              0.000000\n",
       "winery               0.000000\n",
       "vintage              0.035593\n",
       "quality_for_money    0.069215\n",
       "dtype: float64"
      ]
     },
     "execution_count": 257,
     "metadata": {},
     "output_type": "execute_result"
    }
   ],
   "source": [
    "df.isnull().sum()/df.shape[0]"
   ]
  },
  {
   "cell_type": "code",
   "execution_count": 258,
   "id": "993eb6c0",
   "metadata": {},
   "outputs": [],
   "source": [
    "df_ml = df.drop(['description','designation', 'region_1', 'region_2', 'taster_name', 'winery', 'vintage', 'quality_for_money'], axis=1)"
   ]
  },
  {
   "cell_type": "code",
   "execution_count": 259,
   "id": "97bf4929",
   "metadata": {},
   "outputs": [
    {
     "data": {
      "text/plain": [
       "country     0.000000\n",
       "points      0.000000\n",
       "price       0.069215\n",
       "province    0.000485\n",
       "title       0.000000\n",
       "variety     0.000000\n",
       "dtype: float64"
      ]
     },
     "execution_count": 259,
     "metadata": {},
     "output_type": "execute_result"
    }
   ],
   "source": [
    "df_ml.isnull().sum()/df_ml.shape[0]"
   ]
  },
  {
   "cell_type": "code",
   "execution_count": 260,
   "id": "277ce309",
   "metadata": {},
   "outputs": [],
   "source": [
    "df_ml = df_ml[~df_ml['province'].isnull()]"
   ]
  },
  {
   "cell_type": "code",
   "execution_count": 261,
   "id": "76d1753c",
   "metadata": {},
   "outputs": [
    {
     "data": {
      "text/plain": [
       "country     0.000000\n",
       "points      0.000000\n",
       "price       0.069218\n",
       "province    0.000000\n",
       "title       0.000000\n",
       "variety     0.000000\n",
       "dtype: float64"
      ]
     },
     "execution_count": 261,
     "metadata": {},
     "output_type": "execute_result"
    }
   ],
   "source": [
    "df_ml.isnull().sum()/df_ml.shape[0]"
   ]
  },
  {
   "cell_type": "code",
   "execution_count": 262,
   "id": "ac45f2d8",
   "metadata": {},
   "outputs": [],
   "source": [
    "df_ml.drop(['country'], axis = 1, inplace = True)"
   ]
  },
  {
   "cell_type": "code",
   "execution_count": 263,
   "id": "d41147ca",
   "metadata": {},
   "outputs": [],
   "source": [
    "avg_price_province = df_ml.groupby('province').price.mean().to_dict()"
   ]
  },
  {
   "cell_type": "code",
   "execution_count": 264,
   "id": "e3229702",
   "metadata": {},
   "outputs": [
    {
     "data": {
      "text/plain": [
       "{'Achaia': 23.0,\n",
       " 'Aconcagua Costa': 23.074074074074073,\n",
       " 'Aconcagua Valley': 40.29824561403509,\n",
       " 'Aegean': 33.40909090909091,\n",
       " 'Agioritikos': 24.0,\n",
       " 'Ahr': 59.111111111111114,\n",
       " 'Alenquer': 10.0,\n",
       " 'Alentejano': 21.49208282582217,\n",
       " 'Alentejo': 26.849397590361445,\n",
       " 'Alenteo': 18.0,\n",
       " 'Algarve': 18.0,\n",
       " 'Alsace': 30.376804843968326,\n",
       " 'America': 19.894736842105264,\n",
       " 'Amindeo': 27.5,\n",
       " 'Amyndeon': 31.2,\n",
       " 'Andalucia': 35.48936170212766,\n",
       " 'Ankara': 25.444444444444443,\n",
       " 'Apalta': 39.75,\n",
       " 'Arcadia': 40.0,\n",
       " 'Arizona': 29.2,\n",
       " 'Armenia': 14.5,\n",
       " 'Atalanti Valley': 23.785714285714285,\n",
       " 'Atlantida': 22.0,\n",
       " 'Attica': 19.833333333333332,\n",
       " 'Australia Other': 12.427966101694915,\n",
       " 'Austria': 29.045454545454547,\n",
       " 'Awatere Valley': 20.444444444444443,\n",
       " 'Baden': 55.483870967741936,\n",
       " 'Bairrada': 25.5625,\n",
       " 'Beaujolais': 20.34988179669031,\n",
       " 'Beira Atlantico': 23.928571428571427,\n",
       " 'Beira Interior': 18.08823529411765,\n",
       " 'Beiras': 26.928571428571427,\n",
       " 'Bekaa Valley': 25.863636363636363,\n",
       " 'Beotia': 27.0,\n",
       " 'Black Sea Coastal': 9.333333333333334,\n",
       " 'Bordeaux': 38.91179410294853,\n",
       " 'Bot River': 26.0,\n",
       " 'Brazil': 23.5,\n",
       " 'Brda': 34.142857142857146,\n",
       " 'Breede River Valley': 10.0,\n",
       " 'Breedekloof': 18.666666666666668,\n",
       " 'British Columbia': 32.39873417721519,\n",
       " 'Bucelas': 18.166666666666668,\n",
       " 'Buin': 83.625,\n",
       " 'Bulgaria': 9.555555555555555,\n",
       " 'Burgenland': 28.984126984126984,\n",
       " 'Burgundy': 71.05827430779136,\n",
       " 'Bío Bío Valley': 14.976190476190476,\n",
       " 'Cachapoal Valley': 26.436274509803923,\n",
       " 'Cahul': 8.0,\n",
       " 'California': 39.04104808331487,\n",
       " 'Campanha': 26.0,\n",
       " 'Canada Other': 33.0,\n",
       " 'Canelones': 23.511627906976745,\n",
       " 'Canterbury': 24.6,\n",
       " 'Cape Agulhas': 25.0,\n",
       " 'Cape Peninsula': 42.333333333333336,\n",
       " 'Cape South Coast': 26.0,\n",
       " 'Cappadocia': 18.9,\n",
       " 'Carnuntum': 28.208333333333332,\n",
       " 'Casablanca & Leyda Valleys': 21.0,\n",
       " 'Casablanca Valley': 17.61241610738255,\n",
       " 'Casablanca-Curicó Valley': 12.0,\n",
       " 'Catalonia': 28.466608846487425,\n",
       " 'Cauquenes Valley': 20.88888888888889,\n",
       " 'Cederberg': 26.0,\n",
       " 'Central Greece': 8.0,\n",
       " 'Central Italy': 25.437272727272727,\n",
       " 'Central Otago': 40.72049689440994,\n",
       " 'Central Spain': 18.48654244306418,\n",
       " 'Central Valley': 12.6045197740113,\n",
       " 'Cephalonia': 22.0,\n",
       " 'Ceres Plateau': nan,\n",
       " 'Chalkidiki': 23.2,\n",
       " 'Champagne': 79.46131597975416,\n",
       " 'Chile': 21.72340425531915,\n",
       " 'China': 18.0,\n",
       " 'Choapa Valley': 17.0,\n",
       " 'Coastal Region': 18.661538461538463,\n",
       " 'Codru Region': 14.5,\n",
       " 'Coelemu': 25.0,\n",
       " 'Colares': 262.5,\n",
       " 'Colchagua Costa': 21.5,\n",
       " 'Colchagua Valley': 22.239951278928135,\n",
       " 'Colorado': 32.98529411764706,\n",
       " 'Commandaria': 18.5,\n",
       " 'Connecticut': 15.333333333333334,\n",
       " 'Constantia': 24.181818181818183,\n",
       " 'Corinth': 15.333333333333334,\n",
       " 'Corinthia': 12.0,\n",
       " 'Crete': 21.40740740740741,\n",
       " 'Croatia': 19.0,\n",
       " 'Curicó Valley': 15.27310924369748,\n",
       " 'Curicó and Leyda Valleys': 12.666666666666666,\n",
       " 'Curicó and Maipo Valleys': 17.5,\n",
       " 'Cyclades': 21.0,\n",
       " 'Cyprus': 14.333333333333334,\n",
       " 'Dalmatian Coast': 19.0,\n",
       " 'Dan': 12.0,\n",
       " 'Danube River Plains': 15.105263157894736,\n",
       " 'Darling': 16.666666666666668,\n",
       " 'Dealu Mare': 21.032258064516128,\n",
       " 'Dealurile Hușilor': 11.0,\n",
       " 'Dealurile Munteniei': 9.444444444444445,\n",
       " 'Devon Valley': 22.5,\n",
       " 'Dingač': 38.0,\n",
       " 'Dolenjska': 12.0,\n",
       " 'Douro': 29.141975308641975,\n",
       " 'Drama': 21.75,\n",
       " 'Durbanville': 18.454545454545453,\n",
       " 'Duriense': 25.708333333333332,\n",
       " 'Dão': 24.286195286195287,\n",
       " 'East Coast': 13.285714285714286,\n",
       " 'Eger': 31.307692307692307,\n",
       " 'Egypt': nan,\n",
       " 'Eilandia': 13.333333333333334,\n",
       " 'Eisenberg': 35.375,\n",
       " 'Elazığ': 25.8,\n",
       " 'Elazığ-Diyarbakir': 25.0,\n",
       " 'Elgin': 30.295454545454547,\n",
       " 'Elim': 24.0,\n",
       " 'Ella Valley': 36.5,\n",
       " 'Elqui Valley': 18.37735849056604,\n",
       " 'England': 51.68115942028985,\n",
       " 'Epanomi': 42.375,\n",
       " 'Estremadura': 11.324324324324325,\n",
       " 'Florina': 23.076923076923077,\n",
       " 'France Other': 18.186757215619693,\n",
       " 'Franken': 61.21052631578947,\n",
       " 'Franschhoek': 24.272727272727273,\n",
       " 'Fruška Gora': 15.333333333333334,\n",
       " 'Galicia': 21.09046454767726,\n",
       " 'Galil': 32.69230769230769,\n",
       " 'Galilee': 29.43846153846154,\n",
       " 'Georgia': 18.076923076923077,\n",
       " 'Germany': 19.0,\n",
       " 'Gisborne': 23.9,\n",
       " 'Gladstone': 16.0,\n",
       " 'Golan Heights': 46.666666666666664,\n",
       " 'Goriska Brda': 31.615384615384617,\n",
       " 'Goumenissa': 29.666666666666668,\n",
       " 'Greece': 17.153846153846153,\n",
       " 'Groenekloof': 24.75,\n",
       " 'Guerrouane': 33.333333333333336,\n",
       " 'Halkidiki': 15.4,\n",
       " 'Haut-Judeé': 66.25,\n",
       " 'Hawaii': 28.0,\n",
       " \"Hawke's Bay\": 34.91338582677165,\n",
       " 'Helderberg': 37.5,\n",
       " 'Hemel en Aarde': 41.6,\n",
       " 'Hrvatsko Primorje': 13.0,\n",
       " 'Hungary': 16.0,\n",
       " 'Hvar': 24.666666666666668,\n",
       " 'Ica': 18.0625,\n",
       " 'Idaho': 20.768421052631577,\n",
       " 'Illinois': 32.333333333333336,\n",
       " 'Imathia': 15.0,\n",
       " 'Iowa': 15.5,\n",
       " 'Ismarikos': 21.666666666666668,\n",
       " 'Israel': 35.42857142857143,\n",
       " 'Istria': 22.08695652173913,\n",
       " 'Italy Other': 32.07142857142857,\n",
       " 'Itata Valley': 24.083333333333332,\n",
       " 'Jerusalem Hills': 52.5,\n",
       " 'Jidvei': 12.0,\n",
       " 'Jonkershoek Valley': 40.5,\n",
       " 'Juanico': 48.583333333333336,\n",
       " 'Judean Hills': 39.557522123893804,\n",
       " 'Kakheti': 19.549295774647888,\n",
       " 'Kamptal': 33.8698224852071,\n",
       " 'Kathikas': 18.0,\n",
       " 'Kentucky': 35.0,\n",
       " 'Korinthia': 14.333333333333334,\n",
       " 'Korčula': 25.666666666666668,\n",
       " 'Krania Olympus': 35.0,\n",
       " 'Kras': 22.0,\n",
       " 'Kremstal': 30.07191780821918,\n",
       " 'Krk': 16.0,\n",
       " 'Kumeu': 38.241379310344826,\n",
       " 'Kutjevo': 19.333333333333332,\n",
       " 'Lakonia': 29.5,\n",
       " 'Landwein Rhein': 13.5,\n",
       " 'Languedoc-Roussillon': 20.115449915110357,\n",
       " 'Lebanon': 38.84615384615385,\n",
       " 'Leithaberg': 44.294117647058826,\n",
       " 'Lemesos': 21.0,\n",
       " 'Lesbos': 14.0,\n",
       " 'Letrinon': 39.0,\n",
       " 'Levante': 19.940265486725664,\n",
       " 'Leyda Valley': 19.515555555555554,\n",
       " 'Leyda Valley-Maipo Valley': 11.5,\n",
       " 'Limarí Valley': 18.441176470588236,\n",
       " 'Limnos': 16.5,\n",
       " 'Lisboa': 15.730941704035875,\n",
       " 'Loire Valley': 25.998122653316646,\n",
       " 'Lolol Valley': 20.681818181818183,\n",
       " 'Lombardy': 36.95218295218295,\n",
       " 'Loncomilla Valley': 22.2,\n",
       " 'Lontué Valley': 13.44,\n",
       " 'Lutzville Valley': 10.0,\n",
       " 'Macedonia': 19.125,\n",
       " 'Madeira': 115.18181818181819,\n",
       " 'Maipo Valley': 24.421296296296298,\n",
       " 'Maipo Valley-Colchagua Valley': 14.333333333333334,\n",
       " 'Malgas': 35.0,\n",
       " 'Malleco': 37.666666666666664,\n",
       " 'Mantinia': 15.73076923076923,\n",
       " 'Marchigue': 23.333333333333332,\n",
       " 'Markopoulo': 25.0,\n",
       " 'Marlborough': 21.58343949044586,\n",
       " 'Martinborough': 41.44565217391305,\n",
       " 'Massachusetts': 21.285714285714285,\n",
       " 'Maule Valley': 16.989270386266096,\n",
       " 'Mavrodaphne de Cephalonie': 30.0,\n",
       " 'Mavrodaphne of Patras': 12.5,\n",
       " 'Mendoza Province': 25.05331680099194,\n",
       " 'Messinia': 11.0,\n",
       " 'Michigan': 32.432432432432435,\n",
       " 'Middle and South Dalmatia': 65.0,\n",
       " 'Minho': 17.19148936170213,\n",
       " 'Missouri': 17.333333333333332,\n",
       " 'Mittelburgenland': 25.894736842105264,\n",
       " 'Mittelrhein': 30.5,\n",
       " 'Moldova': 17.314814814814813,\n",
       " 'Molina': 10.0,\n",
       " 'Monemvasia': 40.0,\n",
       " 'Montevideo': 26.09090909090909,\n",
       " 'Moravia': 24.25,\n",
       " 'Morocco': 21.0,\n",
       " 'Moscatel de Setúbal': 16.833333333333332,\n",
       " 'Moscatel do Douro': 103.2,\n",
       " 'Mosel': 35.380254154447705,\n",
       " 'Mosel-Saar-Ruwer': 46.40594059405941,\n",
       " 'Moselle Luxembourgeoise': 23.333333333333332,\n",
       " 'Mostar': 12.5,\n",
       " 'Mount Athos': 27.5,\n",
       " 'Murfatlar': 13.285714285714286,\n",
       " 'Muscat of Kefallonian': 30.0,\n",
       " 'Muscat of Patras': 11.0,\n",
       " 'Muzla': 16.0,\n",
       " 'Mátra': 12.666666666666666,\n",
       " 'Nahe': 43.9625,\n",
       " 'Naoussa': 20.458333333333332,\n",
       " 'Nashik': 13.333333333333334,\n",
       " 'Negev': 12.0,\n",
       " 'Negev Hills': 29.2,\n",
       " 'Nelson': 21.944444444444443,\n",
       " 'Nemea': 25.15686274509804,\n",
       " 'Neuchâtel': 21.0,\n",
       " 'Neusiedlersee': 30.90909090909091,\n",
       " 'Nevada': 37.75,\n",
       " 'New Jersey': 25.5,\n",
       " 'New Mexico': 22.42222222222222,\n",
       " 'New South Wales': 25.623529411764707,\n",
       " 'New York': 22.826233183856502,\n",
       " 'New Zealand': 16.25,\n",
       " 'Niederösterreich': 23.41164241164241,\n",
       " 'North Carolina': 21.0,\n",
       " 'North Dalmatia': 29.333333333333332,\n",
       " 'Northeastern Italy': 27.047834843907353,\n",
       " 'Northern Cape': 10.5,\n",
       " 'Northern Spain': 30.771925204108506,\n",
       " 'Northwestern Italy': 22.076923076923077,\n",
       " 'Obidos': 22.428571428571427,\n",
       " 'Ohio': 13.75,\n",
       " 'Olifants River': 55.0,\n",
       " 'Ontario': 41.252631578947366,\n",
       " 'Oregon': 36.5450643776824,\n",
       " 'Other': 21.20377358490566,\n",
       " 'Overberg': 25.857142857142858,\n",
       " 'Paardeberg': 14.0,\n",
       " 'Paarl': 32.053333333333335,\n",
       " 'Pafos': 14.666666666666666,\n",
       " 'Pageon': 17.25,\n",
       " 'Palmela': 15.0,\n",
       " 'Panciu': 20.0,\n",
       " 'Pangeon': 34.588235294117645,\n",
       " 'Patras': 11.333333333333334,\n",
       " 'Peljesac': 32.61538461538461,\n",
       " 'Peloponnese': 16.714285714285715,\n",
       " 'Pennsylvania': 23.333333333333332,\n",
       " 'Península de Setúbal': 18.495934959349594,\n",
       " 'Peumo': 38.5,\n",
       " 'Pfalz': 30.795580110497237,\n",
       " 'Philadelphia': 31.75,\n",
       " 'Piedmont': 54.957267724182586,\n",
       " 'Piekenierskloof': nan,\n",
       " 'Pinto Bandeira': 32.0,\n",
       " 'Pirque': 41.5,\n",
       " 'Pitsilia Mountains': 16.0,\n",
       " 'Pocerina': 26.0,\n",
       " 'Podunavlje': 13.4,\n",
       " 'Polkadraai Hills': 11.333333333333334,\n",
       " 'Port': 68.75406032482599,\n",
       " 'Portugal': 31.75,\n",
       " 'Portuguese Table Wine': 15.6,\n",
       " 'Primorska': 11.444444444444445,\n",
       " 'Progreso': 24.272727272727273,\n",
       " 'Provence': 22.654082528533802,\n",
       " 'Puente Alto': 84.5,\n",
       " 'Rapel Valley': 13.901234567901234,\n",
       " 'Rapsani': 26.0,\n",
       " 'Recas': 11.307692307692308,\n",
       " 'Requinoa': 28.0,\n",
       " 'Retsina': 18.5,\n",
       " 'Rheingau': 79.8538961038961,\n",
       " 'Rheinhessen': 27.280575539568346,\n",
       " 'Rhode Island': 25.0,\n",
       " 'Rhône Valley': 38.64107485604607,\n",
       " 'Ribatejano': 13.133333333333333,\n",
       " 'Ribatejo': 13.923076923076923,\n",
       " 'Rio Claro': 11.6,\n",
       " 'Robertson': 16.238636363636363,\n",
       " 'Romania': 8.095238095238095,\n",
       " 'Sagrada Familia': 19.5,\n",
       " 'Samos': 16.833333333333332,\n",
       " 'Samson': 27.333333333333332,\n",
       " 'San Antonio': 25.07246376811594,\n",
       " 'San Antonio de las Minas Valley': 30.0,\n",
       " 'San Clemente': 28.75,\n",
       " 'San Jose': 30.0,\n",
       " 'San Vicente': 26.5,\n",
       " 'Santa Catarina': 33.0,\n",
       " 'Santa Cruz': 77.5,\n",
       " 'Santorini': 24.5625,\n",
       " 'Sebes': 16.333333333333332,\n",
       " 'Serra Gaúcha': 14.588235294117647,\n",
       " 'Serra do Sudeste': 15.0,\n",
       " 'Setubal': 13.0625,\n",
       " 'Shomron': 21.35,\n",
       " 'Sicily & Sardinia': 27.623476587556127,\n",
       " 'Simonsberg-Paarl': 22.25,\n",
       " 'Simonsberg-Stellenbosch': 43.513513513513516,\n",
       " 'Sithonia': 23.0,\n",
       " 'Slovenia': 27.5,\n",
       " 'Slovenska Istra': 18.0,\n",
       " 'Sopron': 21.25,\n",
       " 'South Africa': 14.0,\n",
       " 'South Australia': 38.8114199849737,\n",
       " 'South Island': 17.666666666666668,\n",
       " 'Southern Italy': 27.80282935455349,\n",
       " 'Southwest France': 24.235955056179776,\n",
       " 'Spain Other': 26.047619047619047,\n",
       " 'Spanish Islands': 32.67857142857143,\n",
       " 'Steiermark': 19.571428571428573,\n",
       " 'Stellenbosch': 29.680306905370845,\n",
       " 'Sterea Ellada': 10.0,\n",
       " 'Swartland': 26.49230769230769,\n",
       " 'Switzerland': 160.0,\n",
       " 'Szekszárd': 25.0,\n",
       " 'Südburgenland': 57.0,\n",
       " 'Südoststeiermark': 29.74074074074074,\n",
       " 'Südsteiermark': 31.08974358974359,\n",
       " 'Table wine': 8.0,\n",
       " 'Tarnave': 8.0,\n",
       " 'Tasmania': 36.523809523809526,\n",
       " 'Tejo': 15.976109215017065,\n",
       " 'Terras do Dão': 9.25,\n",
       " 'Terras do Sado': 14.555555555555555,\n",
       " 'Texas': 25.602150537634408,\n",
       " 'Thermenregion': 32.308411214953274,\n",
       " 'Thessalikos': 16.0,\n",
       " 'Thrace': 22.4375,\n",
       " 'Thracian Valley': 15.127272727272727,\n",
       " 'Thraki': 12.0,\n",
       " 'Ticino': 38.0,\n",
       " 'Tikves': 15.583333333333334,\n",
       " 'Tokaj': 28.043478260869566,\n",
       " 'Tokaji': 64.3695652173913,\n",
       " 'Traisental': 32.16279069767442,\n",
       " 'Trás-os-Montes': 34.22222222222222,\n",
       " 'Tulbagh': 54.6,\n",
       " 'Turkey': 17.470588235294116,\n",
       " 'Tuscany': 47.68369734789392,\n",
       " 'Távora-Varosa': 27.0,\n",
       " 'Ukraine': 9.214285714285714,\n",
       " 'Upper Galilee': 24.0,\n",
       " 'Urla-Thrace': 25.0,\n",
       " 'Uruguay': 22.083333333333332,\n",
       " 'Valais': 29.0,\n",
       " 'Vale Trentino': 28.6,\n",
       " 'Vale dos Vinhedos': 31.77777777777778,\n",
       " 'Valle de Guadalupe': 26.696969696969695,\n",
       " 'Veneto': 34.007343412527,\n",
       " 'Vermont': 31.666666666666668,\n",
       " 'Victoria': 42.60634920634921,\n",
       " 'Vienna': 26.56896551724138,\n",
       " 'Viile Timis': 8.0,\n",
       " 'Viile Timisului': 7.545454545454546,\n",
       " 'Villány': 39.625,\n",
       " 'Vin de Pays de Velvendo': 28.5,\n",
       " 'Vinho Espumante': 15.5,\n",
       " 'Vinho Espumante de Qualidade': 27.545454545454547,\n",
       " 'Vinho Licoroso': 21.5,\n",
       " 'Vinho Verde': 13.00864553314121,\n",
       " 'Vinho da Mesa': 28.0,\n",
       " 'Vipavska Dolina': 36.4,\n",
       " 'Virginia': 27.01298701298701,\n",
       " 'Vlootenburg': 18.0,\n",
       " 'Vânju Mare': 166.0,\n",
       " 'Wachau': 45.9025974025974,\n",
       " 'Wagram': 28.35483870967742,\n",
       " 'Wagram-Donauland': 30.323529411764707,\n",
       " 'Waiheke Island': 35.6,\n",
       " 'Waipara': 22.6,\n",
       " 'Waipara Valley': 34.666666666666664,\n",
       " 'Wairarapa': 26.571428571428573,\n",
       " 'Wairau Valley': 21.09090909090909,\n",
       " 'Waitaki Valley': 55.0,\n",
       " 'Walker Bay': 24.0,\n",
       " 'Washington': 32.436444133752765,\n",
       " 'Washington-Oregon': 17.857142857142858,\n",
       " 'Weinland Österreich': 22.4375,\n",
       " 'Weinviertel': 25.904761904761905,\n",
       " 'Wellington': 21.565217391304348,\n",
       " 'Western Australia': 33.578947368421055,\n",
       " 'Western Cape': 16.17818181818182,\n",
       " 'Wiener Gemischter Satz': 27.88,\n",
       " 'Württemberg': 34.54545454545455,\n",
       " 'Zenata': 16.842105263157894,\n",
       " 'Österreichischer Perlwein': 16.75,\n",
       " 'Österreichischer Sekt': 27.983606557377048,\n",
       " 'Štajerska': 17.181818181818183,\n",
       " 'Župa': 27.75}"
      ]
     },
     "execution_count": 264,
     "metadata": {},
     "output_type": "execute_result"
    }
   ],
   "source": [
    "avg_price_province"
   ]
  },
  {
   "cell_type": "code",
   "execution_count": 265,
   "id": "925d7cfa",
   "metadata": {},
   "outputs": [],
   "source": [
    "df_ml['price'] = df_ml['price'].fillna(df['province'].map(avg_price_province))"
   ]
  },
  {
   "cell_type": "code",
   "execution_count": 266,
   "id": "5aa3d951",
   "metadata": {},
   "outputs": [
    {
     "data": {
      "text/plain": [
       "points      0.000000\n",
       "price       0.000023\n",
       "province    0.000000\n",
       "title       0.000000\n",
       "variety     0.000000\n",
       "dtype: float64"
      ]
     },
     "execution_count": 266,
     "metadata": {},
     "output_type": "execute_result"
    }
   ],
   "source": [
    "df_ml.isnull().sum()/df_ml.shape[0]"
   ]
  },
  {
   "cell_type": "code",
   "execution_count": 267,
   "id": "ae6d2c95",
   "metadata": {},
   "outputs": [],
   "source": [
    "df_ml = df_ml[~df_ml['price'].isnull()]"
   ]
  },
  {
   "cell_type": "code",
   "execution_count": 268,
   "id": "c1c1c4da",
   "metadata": {},
   "outputs": [
    {
     "data": {
      "text/plain": [
       "11127"
      ]
     },
     "execution_count": 268,
     "metadata": {},
     "output_type": "execute_result"
    }
   ],
   "source": [
    "df_ml['title'].duplicated().sum()"
   ]
  },
  {
   "cell_type": "code",
   "execution_count": 269,
   "id": "f1e46912",
   "metadata": {},
   "outputs": [],
   "source": [
    "df_ml = df_ml.groupby('title').agg(points=('points', 'mean'),\n",
    "                                    price = ('price', 'mean'),\n",
    "                                    province = ('province', 'first'),\n",
    "                                    variety = ('variety', 'first')\n",
    "                                    ).reset_index()"
   ]
  },
  {
   "cell_type": "code",
   "execution_count": 270,
   "id": "9bc7014c",
   "metadata": {},
   "outputs": [
    {
     "data": {
      "image/png": "[encoded data removed]",
      "text/plain": [
       "<Figure size 432x288 with 1 Axes>"
      ]
     },
     "metadata": {
      "needs_background": "light"
     },
     "output_type": "display_data"
    }
   ],
   "source": [
    "plt.hist(df_ml.points);"
   ]
  },
  {
   "cell_type": "code",
   "execution_count": 271,
   "id": "7b3a7fef",
   "metadata": {},
   "outputs": [],
   "source": [
    "q1, q2, q3 = np.quantile(df_ml.points, [0.25, 0.5, 0.75]) "
   ]
  },
  {
   "cell_type": "code",
   "execution_count": 272,
   "id": "f4b5a427",
   "metadata": {},
   "outputs": [],
   "source": [
    "conditions = [\n",
    "    (df_ml['points'] <= q1),\n",
    "    (df_ml['points'] > q1) & (df_ml['points'] <= q2),\n",
    "    (df_ml['points'] > q2) & (df_ml['points'] <= q3),\n",
    "    (df_ml['points'] > q3)\n",
    "    ]\n",
    "\n",
    "values = ['poor', 'acceptable', 'good', 'outstanding']"
   ]
  },
  {
   "cell_type": "code",
   "execution_count": 273,
   "id": "83154b6f",
   "metadata": {},
   "outputs": [],
   "source": [
    "df_ml['quality'] = np.select(conditions, values)"
   ]
  },
  {
   "cell_type": "code",
   "execution_count": 274,
   "id": "e5a25de0",
   "metadata": {},
   "outputs": [
    {
     "data": {
      "text/html": [
       "<div>\n",
       "<style scoped>\n",
       "    .dataframe tbody tr th:only-of-type {\n",
       "        vertical-align: middle;\n",
       "    }\n",
       "\n",
       "    .dataframe tbody tr th {\n",
       "        vertical-align: top;\n",
       "    }\n",
       "\n",
       "    .dataframe thead th {\n",
       "        text-align: right;\n",
       "    }\n",
       "</style>\n",
       "<table border=\"1\" class=\"dataframe\">\n",
       "  <thead>\n",
       "    <tr style=\"text-align: right;\">\n",
       "      <th></th>\n",
       "      <th>title</th>\n",
       "      <th>points</th>\n",
       "      <th>price</th>\n",
       "      <th>province</th>\n",
       "      <th>variety</th>\n",
       "      <th>quality</th>\n",
       "    </tr>\n",
       "  </thead>\n",
       "  <tbody>\n",
       "    <tr>\n",
       "      <th>0</th>\n",
       "      <td>1+1=3 2008 Rosé Cabernet Sauvignon (Penedès)</td>\n",
       "      <td>82.0</td>\n",
       "      <td>18.0</td>\n",
       "      <td>Catalonia</td>\n",
       "      <td>Cabernet Sauvignon</td>\n",
       "      <td>poor</td>\n",
       "    </tr>\n",
       "    <tr>\n",
       "      <th>1</th>\n",
       "      <td>1+1=3 NV Brut Sparkling (Cava)</td>\n",
       "      <td>87.0</td>\n",
       "      <td>16.0</td>\n",
       "      <td>Catalonia</td>\n",
       "      <td>Sparkling Blend</td>\n",
       "      <td>acceptable</td>\n",
       "    </tr>\n",
       "    <tr>\n",
       "      <th>2</th>\n",
       "      <td>1+1=3 NV Cygnus Brut Nature Reserva Made With ...</td>\n",
       "      <td>89.0</td>\n",
       "      <td>20.0</td>\n",
       "      <td>Catalonia</td>\n",
       "      <td>Sparkling Blend</td>\n",
       "      <td>good</td>\n",
       "    </tr>\n",
       "    <tr>\n",
       "      <th>3</th>\n",
       "      <td>1+1=3 NV Rosé Sparkling (Cava)</td>\n",
       "      <td>86.0</td>\n",
       "      <td>20.0</td>\n",
       "      <td>Catalonia</td>\n",
       "      <td>Sparkling Blend</td>\n",
       "      <td>poor</td>\n",
       "    </tr>\n",
       "    <tr>\n",
       "      <th>4</th>\n",
       "      <td>10 Knots 2006 Beachcomber White (Paso Robles)</td>\n",
       "      <td>83.0</td>\n",
       "      <td>21.0</td>\n",
       "      <td>California</td>\n",
       "      <td>Rhône-style White Blend</td>\n",
       "      <td>poor</td>\n",
       "    </tr>\n",
       "  </tbody>\n",
       "</table>\n",
       "</div>"
      ],
      "text/plain": [
       "                                               title  points  price  \\\n",
       "0       1+1=3 2008 Rosé Cabernet Sauvignon (Penedès)    82.0   18.0   \n",
       "1                     1+1=3 NV Brut Sparkling (Cava)    87.0   16.0   \n",
       "2  1+1=3 NV Cygnus Brut Nature Reserva Made With ...    89.0   20.0   \n",
       "3                     1+1=3 NV Rosé Sparkling (Cava)    86.0   20.0   \n",
       "4      10 Knots 2006 Beachcomber White (Paso Robles)    83.0   21.0   \n",
       "\n",
       "     province                  variety     quality  \n",
       "0   Catalonia       Cabernet Sauvignon        poor  \n",
       "1   Catalonia          Sparkling Blend  acceptable  \n",
       "2   Catalonia          Sparkling Blend        good  \n",
       "3   Catalonia          Sparkling Blend        poor  \n",
       "4  California  Rhône-style White Blend        poor  "
      ]
     },
     "execution_count": 274,
     "metadata": {},
     "output_type": "execute_result"
    }
   ],
   "source": [
    "df_ml.head()"
   ]
  },
  {
   "cell_type": "code",
   "execution_count": 275,
   "id": "cce4cb45",
   "metadata": {},
   "outputs": [],
   "source": [
    "df_ml.drop(['title', 'points'], axis =1, inplace = True)"
   ]
  },
  {
   "cell_type": "code",
   "execution_count": 286,
   "id": "c928ce44",
   "metadata": {},
   "outputs": [],
   "source": [
    "X = df_ml.loc[:, df_ml.columns != 'quality']\n",
    "Y = df_ml.quality.values"
   ]
  },
  {
   "cell_type": "code",
   "execution_count": 287,
   "id": "c2138eea",
   "metadata": {},
   "outputs": [],
   "source": [
    "X = pd.get_dummies(X)"
   ]
  },
  {
   "cell_type": "code",
   "execution_count": 288,
   "id": "b976b37e",
   "metadata": {},
   "outputs": [],
   "source": [
    "model = RandomForestClassifier()"
   ]
  },
  {
   "cell_type": "code",
   "execution_count": 289,
   "id": "0b196374",
   "metadata": {},
   "outputs": [],
   "source": [
    "X_train, X_test, Y_train, Y_test = train_test_split(X, Y, random_state=20)"
   ]
  },
  {
   "cell_type": "code",
   "execution_count": 290,
   "id": "b9418645",
   "metadata": {},
   "outputs": [
    {
     "data": {
      "text/plain": [
       "RandomForestClassifier()"
      ]
     },
     "execution_count": 290,
     "metadata": {},
     "output_type": "execute_result"
    }
   ],
   "source": [
    "model.fit(X_train, Y_train)"
   ]
  },
  {
   "cell_type": "code",
   "execution_count": 291,
   "id": "52e00176",
   "metadata": {},
   "outputs": [],
   "source": [
    "Y_pred = model.predict(X_test)"
   ]
  },
  {
   "cell_type": "code",
   "execution_count": 294,
   "id": "23f5b6c7",
   "metadata": {},
   "outputs": [
    {
     "name": "stdout",
     "output_type": "stream",
     "text": [
      "              precision    recall  f1-score   support\n",
      "\n",
      "  acceptable       0.36      0.29      0.32      7509\n",
      "        good       0.43      0.47      0.44      8953\n",
      " outstanding       0.50      0.53      0.51      5246\n",
      "        poor       0.55      0.58      0.56      7987\n",
      "\n",
      "    accuracy                           0.46     29695\n",
      "   macro avg       0.46      0.46      0.46     29695\n",
      "weighted avg       0.46      0.46      0.46     29695\n",
      "\n"
     ]
    }
   ],
   "source": [
    "print(classification_report(Y_test, Y_pred))"
   ]
  }
 ],
 "metadata": {
  "kernelspec": {
   "display_name": "Python 3 (ipykernel)",
   "language": "python",
   "name": "python3"
  },
  "language_info": {
   "codemirror_mode": {
    "name": "ipython",
    "version": 3
   },
   "file_extension": ".py",
   "mimetype": "text/x-python",
   "name": "python",
   "nbconvert_exporter": "python",
   "pygments_lexer": "ipython3",
   "version": "3.9.7"
  }
 },
 "nbformat": 4,
 "nbformat_minor": 5
}
